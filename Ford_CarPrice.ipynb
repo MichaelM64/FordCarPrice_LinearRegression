{
 "cells": [
  {
   "cell_type": "markdown",
   "id": "fd12e304",
   "metadata": {},
   "source": [
    "# Importar data y librerias.\n",
    "## Para este entregable, decidi trabajar sobre la data de Ford Price Prediction."
   ]
  },
  {
   "cell_type": "code",
   "execution_count": 14,
   "id": "8c60bec9",
   "metadata": {},
   "outputs": [],
   "source": [
    "#Importar librerias\n",
    "\n",
    "import numpy as np\n",
    "import pandas as pd\n",
    "import matplotlib.pyplot as plt\n",
    "import seaborn as sns\n",
    "import math\n",
    "\n",
    "sns.set()"
   ]
  },
  {
   "cell_type": "code",
   "execution_count": 2,
   "id": "8baf5768",
   "metadata": {},
   "outputs": [
    {
     "data": {
      "text/html": [
       "<div>\n",
       "<style scoped>\n",
       "    .dataframe tbody tr th:only-of-type {\n",
       "        vertical-align: middle;\n",
       "    }\n",
       "\n",
       "    .dataframe tbody tr th {\n",
       "        vertical-align: top;\n",
       "    }\n",
       "\n",
       "    .dataframe thead th {\n",
       "        text-align: right;\n",
       "    }\n",
       "</style>\n",
       "<table border=\"1\" class=\"dataframe\">\n",
       "  <thead>\n",
       "    <tr style=\"text-align: right;\">\n",
       "      <th></th>\n",
       "      <th>model</th>\n",
       "      <th>year</th>\n",
       "      <th>price</th>\n",
       "      <th>transmission</th>\n",
       "      <th>mileage</th>\n",
       "      <th>fueltype</th>\n",
       "      <th>tax</th>\n",
       "      <th>mpg</th>\n",
       "      <th>enginesize</th>\n",
       "    </tr>\n",
       "  </thead>\n",
       "  <tbody>\n",
       "    <tr>\n",
       "      <th>0</th>\n",
       "      <td>Fiesta</td>\n",
       "      <td>2017</td>\n",
       "      <td>12000</td>\n",
       "      <td>Automatic</td>\n",
       "      <td>15944</td>\n",
       "      <td>Petrol</td>\n",
       "      <td>150</td>\n",
       "      <td>57.7</td>\n",
       "      <td>1.0</td>\n",
       "    </tr>\n",
       "    <tr>\n",
       "      <th>1</th>\n",
       "      <td>Focus</td>\n",
       "      <td>2018</td>\n",
       "      <td>14000</td>\n",
       "      <td>Manual</td>\n",
       "      <td>9083</td>\n",
       "      <td>Petrol</td>\n",
       "      <td>150</td>\n",
       "      <td>57.7</td>\n",
       "      <td>1.0</td>\n",
       "    </tr>\n",
       "    <tr>\n",
       "      <th>2</th>\n",
       "      <td>Focus</td>\n",
       "      <td>2017</td>\n",
       "      <td>13000</td>\n",
       "      <td>Manual</td>\n",
       "      <td>12456</td>\n",
       "      <td>Petrol</td>\n",
       "      <td>150</td>\n",
       "      <td>57.7</td>\n",
       "      <td>1.0</td>\n",
       "    </tr>\n",
       "    <tr>\n",
       "      <th>3</th>\n",
       "      <td>Fiesta</td>\n",
       "      <td>2019</td>\n",
       "      <td>17500</td>\n",
       "      <td>Manual</td>\n",
       "      <td>10460</td>\n",
       "      <td>Petrol</td>\n",
       "      <td>145</td>\n",
       "      <td>40.3</td>\n",
       "      <td>1.5</td>\n",
       "    </tr>\n",
       "    <tr>\n",
       "      <th>4</th>\n",
       "      <td>Fiesta</td>\n",
       "      <td>2019</td>\n",
       "      <td>16500</td>\n",
       "      <td>Automatic</td>\n",
       "      <td>1482</td>\n",
       "      <td>Petrol</td>\n",
       "      <td>145</td>\n",
       "      <td>48.7</td>\n",
       "      <td>1.0</td>\n",
       "    </tr>\n",
       "  </tbody>\n",
       "</table>\n",
       "</div>"
      ],
      "text/plain": [
       "     model  year  price transmission  mileage fueltype  tax   mpg  enginesize\n",
       "0   Fiesta  2017  12000    Automatic    15944   Petrol  150  57.7         1.0\n",
       "1    Focus  2018  14000       Manual     9083   Petrol  150  57.7         1.0\n",
       "2    Focus  2017  13000       Manual    12456   Petrol  150  57.7         1.0\n",
       "3   Fiesta  2019  17500       Manual    10460   Petrol  145  40.3         1.5\n",
       "4   Fiesta  2019  16500    Automatic     1482   Petrol  145  48.7         1.0"
      ]
     },
     "execution_count": 2,
     "metadata": {},
     "output_type": "execute_result"
    }
   ],
   "source": [
    "#Leo el Dataset y creo una copia\n",
    "\n",
    "data = pd.read_csv(\"fordpriceprediction.csv\")\n",
    "df = data.copy()\n",
    "df.columns = map(str.lower, df.columns) #convertimos las variables a minúsculas\n",
    "df.head()"
   ]
  },
  {
   "cell_type": "markdown",
   "id": "4e4ed8b9",
   "metadata": {},
   "source": [
    "# Analisis exploratorio.\n",
    "En esta seccion utilizo diferentes comandos para entender mejor la estructura de la data"
   ]
  },
  {
   "cell_type": "code",
   "execution_count": 3,
   "id": "7313e305",
   "metadata": {},
   "outputs": [
    {
     "data": {
      "text/plain": [
       "model           0\n",
       "year            0\n",
       "price           0\n",
       "transmission    0\n",
       "mileage         0\n",
       "fueltype        0\n",
       "tax             0\n",
       "mpg             0\n",
       "enginesize      0\n",
       "dtype: int64"
      ]
     },
     "execution_count": 3,
     "metadata": {},
     "output_type": "execute_result"
    }
   ],
   "source": [
    "#Revisamos la integridad de la data. Parece que no hay nulls en nuestro dataset\n",
    "df.isnull().sum()"
   ]
  },
  {
   "cell_type": "code",
   "execution_count": 4,
   "id": "48874325",
   "metadata": {},
   "outputs": [
    {
     "data": {
      "text/plain": [
       "(17966, 9)"
      ]
     },
     "execution_count": 4,
     "metadata": {},
     "output_type": "execute_result"
    }
   ],
   "source": [
    "#Revisamos la estructura de la data.\n",
    "df.shape"
   ]
  },
  {
   "cell_type": "code",
   "execution_count": 5,
   "id": "0f9913b4",
   "metadata": {},
   "outputs": [
    {
     "data": {
      "text/plain": [
       "Index(['model', 'year', 'price', 'transmission', 'mileage', 'fueltype', 'tax',\n",
       "       'mpg', 'enginesize'],\n",
       "      dtype='object')"
      ]
     },
     "execution_count": 5,
     "metadata": {},
     "output_type": "execute_result"
    }
   ],
   "source": [
    "df.columns"
   ]
  },
  {
   "cell_type": "code",
   "execution_count": 6,
   "id": "bd9df3e0",
   "metadata": {
    "scrolled": true
   },
   "outputs": [
    {
     "name": "stdout",
     "output_type": "stream",
     "text": [
      "<class 'pandas.core.frame.DataFrame'>\n",
      "RangeIndex: 17966 entries, 0 to 17965\n",
      "Data columns (total 9 columns):\n",
      " #   Column        Non-Null Count  Dtype  \n",
      "---  ------        --------------  -----  \n",
      " 0   model         17966 non-null  object \n",
      " 1   year          17966 non-null  int64  \n",
      " 2   price         17966 non-null  int64  \n",
      " 3   transmission  17966 non-null  object \n",
      " 4   mileage       17966 non-null  int64  \n",
      " 5   fueltype      17966 non-null  object \n",
      " 6   tax           17966 non-null  int64  \n",
      " 7   mpg           17966 non-null  float64\n",
      " 8   enginesize    17966 non-null  float64\n",
      "dtypes: float64(2), int64(4), object(3)\n",
      "memory usage: 1.2+ MB\n"
     ]
    }
   ],
   "source": [
    "#Podemos encontrar 3 variables categoricas: Modelo, Transmission y FuelType.\n",
    "df.info()"
   ]
  },
  {
   "cell_type": "code",
   "execution_count": 7,
   "id": "14158fa4",
   "metadata": {},
   "outputs": [
    {
     "data": {
      "text/html": [
       "<div>\n",
       "<style scoped>\n",
       "    .dataframe tbody tr th:only-of-type {\n",
       "        vertical-align: middle;\n",
       "    }\n",
       "\n",
       "    .dataframe tbody tr th {\n",
       "        vertical-align: top;\n",
       "    }\n",
       "\n",
       "    .dataframe thead th {\n",
       "        text-align: right;\n",
       "    }\n",
       "</style>\n",
       "<table border=\"1\" class=\"dataframe\">\n",
       "  <thead>\n",
       "    <tr style=\"text-align: right;\">\n",
       "      <th></th>\n",
       "      <th>year</th>\n",
       "      <th>price</th>\n",
       "      <th>mileage</th>\n",
       "      <th>tax</th>\n",
       "      <th>mpg</th>\n",
       "      <th>enginesize</th>\n",
       "    </tr>\n",
       "  </thead>\n",
       "  <tbody>\n",
       "    <tr>\n",
       "      <th>count</th>\n",
       "      <td>17966.000000</td>\n",
       "      <td>17966.000000</td>\n",
       "      <td>17966.000000</td>\n",
       "      <td>17966.000000</td>\n",
       "      <td>17966.000000</td>\n",
       "      <td>17966.000000</td>\n",
       "    </tr>\n",
       "    <tr>\n",
       "      <th>mean</th>\n",
       "      <td>2016.866470</td>\n",
       "      <td>12279.534844</td>\n",
       "      <td>23362.608761</td>\n",
       "      <td>113.329456</td>\n",
       "      <td>57.906980</td>\n",
       "      <td>1.350807</td>\n",
       "    </tr>\n",
       "    <tr>\n",
       "      <th>std</th>\n",
       "      <td>2.050336</td>\n",
       "      <td>4741.343657</td>\n",
       "      <td>19472.054349</td>\n",
       "      <td>62.012456</td>\n",
       "      <td>10.125696</td>\n",
       "      <td>0.432367</td>\n",
       "    </tr>\n",
       "    <tr>\n",
       "      <th>min</th>\n",
       "      <td>1996.000000</td>\n",
       "      <td>495.000000</td>\n",
       "      <td>1.000000</td>\n",
       "      <td>0.000000</td>\n",
       "      <td>20.800000</td>\n",
       "      <td>0.000000</td>\n",
       "    </tr>\n",
       "    <tr>\n",
       "      <th>25%</th>\n",
       "      <td>2016.000000</td>\n",
       "      <td>8999.000000</td>\n",
       "      <td>9987.000000</td>\n",
       "      <td>30.000000</td>\n",
       "      <td>52.300000</td>\n",
       "      <td>1.000000</td>\n",
       "    </tr>\n",
       "    <tr>\n",
       "      <th>50%</th>\n",
       "      <td>2017.000000</td>\n",
       "      <td>11291.000000</td>\n",
       "      <td>18242.500000</td>\n",
       "      <td>145.000000</td>\n",
       "      <td>58.900000</td>\n",
       "      <td>1.200000</td>\n",
       "    </tr>\n",
       "    <tr>\n",
       "      <th>75%</th>\n",
       "      <td>2018.000000</td>\n",
       "      <td>15299.000000</td>\n",
       "      <td>31060.000000</td>\n",
       "      <td>145.000000</td>\n",
       "      <td>65.700000</td>\n",
       "      <td>1.500000</td>\n",
       "    </tr>\n",
       "    <tr>\n",
       "      <th>max</th>\n",
       "      <td>2060.000000</td>\n",
       "      <td>54995.000000</td>\n",
       "      <td>177644.000000</td>\n",
       "      <td>580.000000</td>\n",
       "      <td>201.800000</td>\n",
       "      <td>5.000000</td>\n",
       "    </tr>\n",
       "  </tbody>\n",
       "</table>\n",
       "</div>"
      ],
      "text/plain": [
       "               year         price        mileage           tax           mpg  \\\n",
       "count  17966.000000  17966.000000   17966.000000  17966.000000  17966.000000   \n",
       "mean    2016.866470  12279.534844   23362.608761    113.329456     57.906980   \n",
       "std        2.050336   4741.343657   19472.054349     62.012456     10.125696   \n",
       "min     1996.000000    495.000000       1.000000      0.000000     20.800000   \n",
       "25%     2016.000000   8999.000000    9987.000000     30.000000     52.300000   \n",
       "50%     2017.000000  11291.000000   18242.500000    145.000000     58.900000   \n",
       "75%     2018.000000  15299.000000   31060.000000    145.000000     65.700000   \n",
       "max     2060.000000  54995.000000  177644.000000    580.000000    201.800000   \n",
       "\n",
       "         enginesize  \n",
       "count  17966.000000  \n",
       "mean       1.350807  \n",
       "std        0.432367  \n",
       "min        0.000000  \n",
       "25%        1.000000  \n",
       "50%        1.200000  \n",
       "75%        1.500000  \n",
       "max        5.000000  "
      ]
     },
     "execution_count": 7,
     "metadata": {},
     "output_type": "execute_result"
    }
   ],
   "source": [
    "df.describe()"
   ]
  },
  {
   "cell_type": "markdown",
   "id": "4709a92c",
   "metadata": {},
   "source": [
    "# Tratamiento de variables categoricas\n",
    "## En esta seccion trabajare sobre las variables categoricas (Model, Transmission y FuelType)"
   ]
  },
  {
   "cell_type": "markdown",
   "id": "3f2083e5",
   "metadata": {},
   "source": [
    "### 1. Model"
   ]
  },
  {
   "cell_type": "code",
   "execution_count": 8,
   "id": "a91ae155",
   "metadata": {},
   "outputs": [
    {
     "data": {
      "text/html": [
       "<div>\n",
       "<style scoped>\n",
       "    .dataframe tbody tr th:only-of-type {\n",
       "        vertical-align: middle;\n",
       "    }\n",
       "\n",
       "    .dataframe tbody tr th {\n",
       "        vertical-align: top;\n",
       "    }\n",
       "\n",
       "    .dataframe thead th {\n",
       "        text-align: right;\n",
       "    }\n",
       "</style>\n",
       "<table border=\"1\" class=\"dataframe\">\n",
       "  <thead>\n",
       "    <tr style=\"text-align: right;\">\n",
       "      <th></th>\n",
       "      <th>model</th>\n",
       "      <th>transmission</th>\n",
       "      <th>fueltype</th>\n",
       "    </tr>\n",
       "  </thead>\n",
       "  <tbody>\n",
       "    <tr>\n",
       "      <th>count</th>\n",
       "      <td>17966</td>\n",
       "      <td>17966</td>\n",
       "      <td>17966</td>\n",
       "    </tr>\n",
       "    <tr>\n",
       "      <th>unique</th>\n",
       "      <td>24</td>\n",
       "      <td>3</td>\n",
       "      <td>5</td>\n",
       "    </tr>\n",
       "    <tr>\n",
       "      <th>top</th>\n",
       "      <td>Fiesta</td>\n",
       "      <td>Manual</td>\n",
       "      <td>Petrol</td>\n",
       "    </tr>\n",
       "    <tr>\n",
       "      <th>freq</th>\n",
       "      <td>6557</td>\n",
       "      <td>15518</td>\n",
       "      <td>12179</td>\n",
       "    </tr>\n",
       "  </tbody>\n",
       "</table>\n",
       "</div>"
      ],
      "text/plain": [
       "          model transmission fueltype\n",
       "count     17966        17966    17966\n",
       "unique       24            3        5\n",
       "top      Fiesta       Manual   Petrol\n",
       "freq       6557        15518    12179"
      ]
     },
     "execution_count": 8,
     "metadata": {},
     "output_type": "execute_result"
    }
   ],
   "source": [
    "data_disc = df[['model', 'transmission', 'fueltype']].copy()\n",
    "data_disc.describe()"
   ]
  },
  {
   "cell_type": "code",
   "execution_count": 15,
   "id": "97a4ca6b",
   "metadata": {
    "scrolled": false
   },
   "outputs": [
    {
     "data": {
      "text/plain": [
       "<AxesSubplot:title={'center':'model Count'}>"
      ]
     },
     "execution_count": 15,
     "metadata": {},
     "output_type": "execute_result"
    },
    {
     "data": {
      "image/png": "[encoded data removed]",
      "text/plain": [
       "<Figure size 640x480 with 1 Axes>"
      ]
     },
     "metadata": {},
     "output_type": "display_data"
    }
   ],
   "source": [
    "#Model - Bar chart\n",
    "\n",
    "data_disc.model.value_counts().sort_values().plot(kind = 'barh', title = 'model Count')"
   ]
  },
  {
   "cell_type": "code",
   "execution_count": 16,
   "id": "a8127c1e",
   "metadata": {},
   "outputs": [],
   "source": [
    "#Debido a la alta cardinalidad, he decidido eliminar la columna Model del dataset\n",
    "\n",
    "df.drop(['model'], inplace=True, axis=1)"
   ]
  },
  {
   "cell_type": "markdown",
   "id": "d9c54ec1",
   "metadata": {},
   "source": [
    "### 2. Transmission"
   ]
  },
  {
   "cell_type": "code",
   "execution_count": 17,
   "id": "dcdb9b84",
   "metadata": {
    "scrolled": false
   },
   "outputs": [
    {
     "data": {
      "text/plain": [
       "<AxesSubplot:title={'center':'Transmission Count'}>"
      ]
     },
     "execution_count": 17,
     "metadata": {},
     "output_type": "execute_result"
    },
    {
     "data": {
      "image/png": "[encoded data removed]",
      "text/plain": [
       "<Figure size 640x480 with 1 Axes>"
      ]
     },
     "metadata": {},
     "output_type": "display_data"
    }
   ],
   "source": [
    "#Transmission - Bar chart\n",
    "#Aqui no observamos nada fuera de lo normal.\n",
    "\n",
    "data_disc.transmission.value_counts().sort_values().plot(kind = 'barh', title = 'Transmission Count')"
   ]
  },
  {
   "cell_type": "code",
   "execution_count": 18,
   "id": "233ceeaa",
   "metadata": {},
   "outputs": [
    {
     "data": {
      "text/html": [
       "<div>\n",
       "<style scoped>\n",
       "    .dataframe tbody tr th:only-of-type {\n",
       "        vertical-align: middle;\n",
       "    }\n",
       "\n",
       "    .dataframe tbody tr th {\n",
       "        vertical-align: top;\n",
       "    }\n",
       "\n",
       "    .dataframe thead th {\n",
       "        text-align: right;\n",
       "    }\n",
       "</style>\n",
       "<table border=\"1\" class=\"dataframe\">\n",
       "  <thead>\n",
       "    <tr style=\"text-align: right;\">\n",
       "      <th></th>\n",
       "      <th>year</th>\n",
       "      <th>price</th>\n",
       "      <th>mileage</th>\n",
       "      <th>fueltype</th>\n",
       "      <th>tax</th>\n",
       "      <th>mpg</th>\n",
       "      <th>enginesize</th>\n",
       "      <th>transmission-automatic</th>\n",
       "      <th>transmission-manual</th>\n",
       "      <th>transmission-semi-auto</th>\n",
       "    </tr>\n",
       "  </thead>\n",
       "  <tbody>\n",
       "    <tr>\n",
       "      <th>0</th>\n",
       "      <td>2017</td>\n",
       "      <td>12000</td>\n",
       "      <td>15944</td>\n",
       "      <td>Petrol</td>\n",
       "      <td>150</td>\n",
       "      <td>57.7</td>\n",
       "      <td>1.0</td>\n",
       "      <td>1</td>\n",
       "      <td>0</td>\n",
       "      <td>0</td>\n",
       "    </tr>\n",
       "    <tr>\n",
       "      <th>1</th>\n",
       "      <td>2018</td>\n",
       "      <td>14000</td>\n",
       "      <td>9083</td>\n",
       "      <td>Petrol</td>\n",
       "      <td>150</td>\n",
       "      <td>57.7</td>\n",
       "      <td>1.0</td>\n",
       "      <td>0</td>\n",
       "      <td>1</td>\n",
       "      <td>0</td>\n",
       "    </tr>\n",
       "    <tr>\n",
       "      <th>2</th>\n",
       "      <td>2017</td>\n",
       "      <td>13000</td>\n",
       "      <td>12456</td>\n",
       "      <td>Petrol</td>\n",
       "      <td>150</td>\n",
       "      <td>57.7</td>\n",
       "      <td>1.0</td>\n",
       "      <td>0</td>\n",
       "      <td>1</td>\n",
       "      <td>0</td>\n",
       "    </tr>\n",
       "    <tr>\n",
       "      <th>3</th>\n",
       "      <td>2019</td>\n",
       "      <td>17500</td>\n",
       "      <td>10460</td>\n",
       "      <td>Petrol</td>\n",
       "      <td>145</td>\n",
       "      <td>40.3</td>\n",
       "      <td>1.5</td>\n",
       "      <td>0</td>\n",
       "      <td>1</td>\n",
       "      <td>0</td>\n",
       "    </tr>\n",
       "    <tr>\n",
       "      <th>4</th>\n",
       "      <td>2019</td>\n",
       "      <td>16500</td>\n",
       "      <td>1482</td>\n",
       "      <td>Petrol</td>\n",
       "      <td>145</td>\n",
       "      <td>48.7</td>\n",
       "      <td>1.0</td>\n",
       "      <td>1</td>\n",
       "      <td>0</td>\n",
       "      <td>0</td>\n",
       "    </tr>\n",
       "    <tr>\n",
       "      <th>...</th>\n",
       "      <td>...</td>\n",
       "      <td>...</td>\n",
       "      <td>...</td>\n",
       "      <td>...</td>\n",
       "      <td>...</td>\n",
       "      <td>...</td>\n",
       "      <td>...</td>\n",
       "      <td>...</td>\n",
       "      <td>...</td>\n",
       "      <td>...</td>\n",
       "    </tr>\n",
       "    <tr>\n",
       "      <th>17961</th>\n",
       "      <td>2017</td>\n",
       "      <td>8999</td>\n",
       "      <td>16700</td>\n",
       "      <td>Petrol</td>\n",
       "      <td>150</td>\n",
       "      <td>47.1</td>\n",
       "      <td>1.4</td>\n",
       "      <td>0</td>\n",
       "      <td>1</td>\n",
       "      <td>0</td>\n",
       "    </tr>\n",
       "    <tr>\n",
       "      <th>17962</th>\n",
       "      <td>2014</td>\n",
       "      <td>7499</td>\n",
       "      <td>40700</td>\n",
       "      <td>Petrol</td>\n",
       "      <td>30</td>\n",
       "      <td>57.7</td>\n",
       "      <td>1.0</td>\n",
       "      <td>0</td>\n",
       "      <td>1</td>\n",
       "      <td>0</td>\n",
       "    </tr>\n",
       "    <tr>\n",
       "      <th>17963</th>\n",
       "      <td>2015</td>\n",
       "      <td>9999</td>\n",
       "      <td>7010</td>\n",
       "      <td>Diesel</td>\n",
       "      <td>20</td>\n",
       "      <td>67.3</td>\n",
       "      <td>1.6</td>\n",
       "      <td>0</td>\n",
       "      <td>1</td>\n",
       "      <td>0</td>\n",
       "    </tr>\n",
       "    <tr>\n",
       "      <th>17964</th>\n",
       "      <td>2018</td>\n",
       "      <td>8299</td>\n",
       "      <td>5007</td>\n",
       "      <td>Petrol</td>\n",
       "      <td>145</td>\n",
       "      <td>57.7</td>\n",
       "      <td>1.2</td>\n",
       "      <td>0</td>\n",
       "      <td>1</td>\n",
       "      <td>0</td>\n",
       "    </tr>\n",
       "    <tr>\n",
       "      <th>17965</th>\n",
       "      <td>2015</td>\n",
       "      <td>8299</td>\n",
       "      <td>5007</td>\n",
       "      <td>Petrol</td>\n",
       "      <td>22</td>\n",
       "      <td>57.7</td>\n",
       "      <td>1.0</td>\n",
       "      <td>0</td>\n",
       "      <td>1</td>\n",
       "      <td>0</td>\n",
       "    </tr>\n",
       "  </tbody>\n",
       "</table>\n",
       "<p>17966 rows × 10 columns</p>\n",
       "</div>"
      ],
      "text/plain": [
       "       year  price  mileage fueltype  tax   mpg  enginesize  \\\n",
       "0      2017  12000    15944   Petrol  150  57.7         1.0   \n",
       "1      2018  14000     9083   Petrol  150  57.7         1.0   \n",
       "2      2017  13000    12456   Petrol  150  57.7         1.0   \n",
       "3      2019  17500    10460   Petrol  145  40.3         1.5   \n",
       "4      2019  16500     1482   Petrol  145  48.7         1.0   \n",
       "...     ...    ...      ...      ...  ...   ...         ...   \n",
       "17961  2017   8999    16700   Petrol  150  47.1         1.4   \n",
       "17962  2014   7499    40700   Petrol   30  57.7         1.0   \n",
       "17963  2015   9999     7010   Diesel   20  67.3         1.6   \n",
       "17964  2018   8299     5007   Petrol  145  57.7         1.2   \n",
       "17965  2015   8299     5007   Petrol   22  57.7         1.0   \n",
       "\n",
       "       transmission-automatic  transmission-manual  transmission-semi-auto  \n",
       "0                           1                    0                       0  \n",
       "1                           0                    1                       0  \n",
       "2                           0                    1                       0  \n",
       "3                           0                    1                       0  \n",
       "4                           1                    0                       0  \n",
       "...                       ...                  ...                     ...  \n",
       "17961                       0                    1                       0  \n",
       "17962                       0                    1                       0  \n",
       "17963                       0                    1                       0  \n",
       "17964                       0                    1                       0  \n",
       "17965                       0                    1                       0  \n",
       "\n",
       "[17966 rows x 10 columns]"
      ]
     },
     "execution_count": 18,
     "metadata": {},
     "output_type": "execute_result"
    }
   ],
   "source": [
    "#creamos un dummy para la columna transmission\n",
    "dummy_transmision = pd.get_dummies(df['transmission'])\n",
    "dummy_transmision.rename(columns={'Automatic':'transmission-automatic', 'Manual':'transmission-manual','Semi-Auto':'transmission-semi-auto'}, inplace=True)\n",
    "df = pd.concat([df, dummy_transmision], axis=1)\n",
    "df.drop(['transmission'], inplace=True, axis=1)\n",
    "df"
   ]
  },
  {
   "cell_type": "markdown",
   "id": "6b089582",
   "metadata": {},
   "source": [
    "### 3. FuelType"
   ]
  },
  {
   "cell_type": "code",
   "execution_count": 19,
   "id": "2182053d",
   "metadata": {
    "scrolled": false
   },
   "outputs": [
    {
     "data": {
      "text/plain": [
       "<AxesSubplot:title={'center':'FuelType Count'}>"
      ]
     },
     "execution_count": 19,
     "metadata": {},
     "output_type": "execute_result"
    },
    {
     "data": {
      "image/png": "[encoded data removed]",
      "text/plain": [
       "<Figure size 640x480 with 1 Axes>"
      ]
     },
     "metadata": {},
     "output_type": "display_data"
    }
   ],
   "source": [
    "#FuelType - Bar chart\n",
    "\n",
    "\n",
    "#Aqui encontramos que para esta variable, las ultimas categorias tienen muy pocos valores.\n",
    "#Creo que lo mejor es eliminarlas ya que pueden dañar el modelo\n",
    "\n",
    "data_disc.fueltype.value_counts().sort_values().plot(kind = 'barh', title = 'FuelType Count')"
   ]
  },
  {
   "cell_type": "code",
   "execution_count": 20,
   "id": "7ff3c130",
   "metadata": {},
   "outputs": [],
   "source": [
    "#Eliminamos las lineas que contienen Hybrid, Electric y Other de la columna\n",
    "df.drop(df[df['fueltype'] == 'Hybrid'].index, inplace = True)\n",
    "df.drop(df[df['fueltype'] == 'Electric'].index, inplace = True)\n",
    "df.drop(df[df['fueltype'] == 'Other'].index, inplace = True)"
   ]
  },
  {
   "cell_type": "code",
   "execution_count": 21,
   "id": "f15b1c55",
   "metadata": {
    "scrolled": false
   },
   "outputs": [
    {
     "data": {
      "text/plain": [
       "<AxesSubplot:title={'center':'FuelType Count'}>"
      ]
     },
     "execution_count": 21,
     "metadata": {},
     "output_type": "execute_result"
    },
    {
     "data": {
      "image/png": "[encoded data removed]",
      "text/plain": [
       "<Figure size 640x480 with 1 Axes>"
      ]
     },
     "metadata": {},
     "output_type": "display_data"
    }
   ],
   "source": [
    "#Comprobamos que el cambio fuera efectivo\n",
    "df.fueltype.value_counts().sort_values().plot(kind = 'barh', title = 'FuelType Count')"
   ]
  },
  {
   "cell_type": "code",
   "execution_count": 22,
   "id": "97cbae8d",
   "metadata": {
    "scrolled": true
   },
   "outputs": [
    {
     "data": {
      "text/html": [
       "<div>\n",
       "<style scoped>\n",
       "    .dataframe tbody tr th:only-of-type {\n",
       "        vertical-align: middle;\n",
       "    }\n",
       "\n",
       "    .dataframe tbody tr th {\n",
       "        vertical-align: top;\n",
       "    }\n",
       "\n",
       "    .dataframe thead th {\n",
       "        text-align: right;\n",
       "    }\n",
       "</style>\n",
       "<table border=\"1\" class=\"dataframe\">\n",
       "  <thead>\n",
       "    <tr style=\"text-align: right;\">\n",
       "      <th></th>\n",
       "      <th>year</th>\n",
       "      <th>price</th>\n",
       "      <th>mileage</th>\n",
       "      <th>tax</th>\n",
       "      <th>mpg</th>\n",
       "      <th>enginesize</th>\n",
       "      <th>transmission-automatic</th>\n",
       "      <th>transmission-manual</th>\n",
       "      <th>transmission-semi-auto</th>\n",
       "      <th>fueltype-diesel</th>\n",
       "      <th>fueltype-petrol</th>\n",
       "    </tr>\n",
       "  </thead>\n",
       "  <tbody>\n",
       "    <tr>\n",
       "      <th>0</th>\n",
       "      <td>2017</td>\n",
       "      <td>12000</td>\n",
       "      <td>15944</td>\n",
       "      <td>150</td>\n",
       "      <td>57.7</td>\n",
       "      <td>1.0</td>\n",
       "      <td>1</td>\n",
       "      <td>0</td>\n",
       "      <td>0</td>\n",
       "      <td>0</td>\n",
       "      <td>1</td>\n",
       "    </tr>\n",
       "    <tr>\n",
       "      <th>1</th>\n",
       "      <td>2018</td>\n",
       "      <td>14000</td>\n",
       "      <td>9083</td>\n",
       "      <td>150</td>\n",
       "      <td>57.7</td>\n",
       "      <td>1.0</td>\n",
       "      <td>0</td>\n",
       "      <td>1</td>\n",
       "      <td>0</td>\n",
       "      <td>0</td>\n",
       "      <td>1</td>\n",
       "    </tr>\n",
       "    <tr>\n",
       "      <th>2</th>\n",
       "      <td>2017</td>\n",
       "      <td>13000</td>\n",
       "      <td>12456</td>\n",
       "      <td>150</td>\n",
       "      <td>57.7</td>\n",
       "      <td>1.0</td>\n",
       "      <td>0</td>\n",
       "      <td>1</td>\n",
       "      <td>0</td>\n",
       "      <td>0</td>\n",
       "      <td>1</td>\n",
       "    </tr>\n",
       "    <tr>\n",
       "      <th>3</th>\n",
       "      <td>2019</td>\n",
       "      <td>17500</td>\n",
       "      <td>10460</td>\n",
       "      <td>145</td>\n",
       "      <td>40.3</td>\n",
       "      <td>1.5</td>\n",
       "      <td>0</td>\n",
       "      <td>1</td>\n",
       "      <td>0</td>\n",
       "      <td>0</td>\n",
       "      <td>1</td>\n",
       "    </tr>\n",
       "    <tr>\n",
       "      <th>4</th>\n",
       "      <td>2019</td>\n",
       "      <td>16500</td>\n",
       "      <td>1482</td>\n",
       "      <td>145</td>\n",
       "      <td>48.7</td>\n",
       "      <td>1.0</td>\n",
       "      <td>1</td>\n",
       "      <td>0</td>\n",
       "      <td>0</td>\n",
       "      <td>0</td>\n",
       "      <td>1</td>\n",
       "    </tr>\n",
       "    <tr>\n",
       "      <th>...</th>\n",
       "      <td>...</td>\n",
       "      <td>...</td>\n",
       "      <td>...</td>\n",
       "      <td>...</td>\n",
       "      <td>...</td>\n",
       "      <td>...</td>\n",
       "      <td>...</td>\n",
       "      <td>...</td>\n",
       "      <td>...</td>\n",
       "      <td>...</td>\n",
       "      <td>...</td>\n",
       "    </tr>\n",
       "    <tr>\n",
       "      <th>17961</th>\n",
       "      <td>2017</td>\n",
       "      <td>8999</td>\n",
       "      <td>16700</td>\n",
       "      <td>150</td>\n",
       "      <td>47.1</td>\n",
       "      <td>1.4</td>\n",
       "      <td>0</td>\n",
       "      <td>1</td>\n",
       "      <td>0</td>\n",
       "      <td>0</td>\n",
       "      <td>1</td>\n",
       "    </tr>\n",
       "    <tr>\n",
       "      <th>17962</th>\n",
       "      <td>2014</td>\n",
       "      <td>7499</td>\n",
       "      <td>40700</td>\n",
       "      <td>30</td>\n",
       "      <td>57.7</td>\n",
       "      <td>1.0</td>\n",
       "      <td>0</td>\n",
       "      <td>1</td>\n",
       "      <td>0</td>\n",
       "      <td>0</td>\n",
       "      <td>1</td>\n",
       "    </tr>\n",
       "    <tr>\n",
       "      <th>17963</th>\n",
       "      <td>2015</td>\n",
       "      <td>9999</td>\n",
       "      <td>7010</td>\n",
       "      <td>20</td>\n",
       "      <td>67.3</td>\n",
       "      <td>1.6</td>\n",
       "      <td>0</td>\n",
       "      <td>1</td>\n",
       "      <td>0</td>\n",
       "      <td>1</td>\n",
       "      <td>0</td>\n",
       "    </tr>\n",
       "    <tr>\n",
       "      <th>17964</th>\n",
       "      <td>2018</td>\n",
       "      <td>8299</td>\n",
       "      <td>5007</td>\n",
       "      <td>145</td>\n",
       "      <td>57.7</td>\n",
       "      <td>1.2</td>\n",
       "      <td>0</td>\n",
       "      <td>1</td>\n",
       "      <td>0</td>\n",
       "      <td>0</td>\n",
       "      <td>1</td>\n",
       "    </tr>\n",
       "    <tr>\n",
       "      <th>17965</th>\n",
       "      <td>2015</td>\n",
       "      <td>8299</td>\n",
       "      <td>5007</td>\n",
       "      <td>22</td>\n",
       "      <td>57.7</td>\n",
       "      <td>1.0</td>\n",
       "      <td>0</td>\n",
       "      <td>1</td>\n",
       "      <td>0</td>\n",
       "      <td>0</td>\n",
       "      <td>1</td>\n",
       "    </tr>\n",
       "  </tbody>\n",
       "</table>\n",
       "<p>17941 rows × 11 columns</p>\n",
       "</div>"
      ],
      "text/plain": [
       "       year  price  mileage  tax   mpg  enginesize  transmission-automatic  \\\n",
       "0      2017  12000    15944  150  57.7         1.0                       1   \n",
       "1      2018  14000     9083  150  57.7         1.0                       0   \n",
       "2      2017  13000    12456  150  57.7         1.0                       0   \n",
       "3      2019  17500    10460  145  40.3         1.5                       0   \n",
       "4      2019  16500     1482  145  48.7         1.0                       1   \n",
       "...     ...    ...      ...  ...   ...         ...                     ...   \n",
       "17961  2017   8999    16700  150  47.1         1.4                       0   \n",
       "17962  2014   7499    40700   30  57.7         1.0                       0   \n",
       "17963  2015   9999     7010   20  67.3         1.6                       0   \n",
       "17964  2018   8299     5007  145  57.7         1.2                       0   \n",
       "17965  2015   8299     5007   22  57.7         1.0                       0   \n",
       "\n",
       "       transmission-manual  transmission-semi-auto  fueltype-diesel  \\\n",
       "0                        0                       0                0   \n",
       "1                        1                       0                0   \n",
       "2                        1                       0                0   \n",
       "3                        1                       0                0   \n",
       "4                        0                       0                0   \n",
       "...                    ...                     ...              ...   \n",
       "17961                    1                       0                0   \n",
       "17962                    1                       0                0   \n",
       "17963                    1                       0                1   \n",
       "17964                    1                       0                0   \n",
       "17965                    1                       0                0   \n",
       "\n",
       "       fueltype-petrol  \n",
       "0                    1  \n",
       "1                    1  \n",
       "2                    1  \n",
       "3                    1  \n",
       "4                    1  \n",
       "...                ...  \n",
       "17961                1  \n",
       "17962                1  \n",
       "17963                0  \n",
       "17964                1  \n",
       "17965                1  \n",
       "\n",
       "[17941 rows x 11 columns]"
      ]
     },
     "execution_count": 22,
     "metadata": {},
     "output_type": "execute_result"
    }
   ],
   "source": [
    "#Creamos un dummy variable para la columna fueltype\n",
    "dummy_fueltype = pd.get_dummies(df['fueltype'])\n",
    "dummy_fueltype.rename(columns={'Diesel':'fueltype-diesel', 'Petrol':'fueltype-petrol'}, inplace=True)\n",
    "df = pd.concat([df, dummy_fueltype], axis=1)\n",
    "df.drop(['fueltype'], inplace=True, axis=1)\n",
    "df"
   ]
  },
  {
   "cell_type": "code",
   "execution_count": 23,
   "id": "f4a19b16",
   "metadata": {},
   "outputs": [
    {
     "data": {
      "text/html": [
       "<div>\n",
       "<style scoped>\n",
       "    .dataframe tbody tr th:only-of-type {\n",
       "        vertical-align: middle;\n",
       "    }\n",
       "\n",
       "    .dataframe tbody tr th {\n",
       "        vertical-align: top;\n",
       "    }\n",
       "\n",
       "    .dataframe thead th {\n",
       "        text-align: right;\n",
       "    }\n",
       "</style>\n",
       "<table border=\"1\" class=\"dataframe\">\n",
       "  <thead>\n",
       "    <tr style=\"text-align: right;\">\n",
       "      <th></th>\n",
       "      <th>year</th>\n",
       "      <th>price</th>\n",
       "      <th>mileage</th>\n",
       "      <th>tax</th>\n",
       "      <th>mpg</th>\n",
       "      <th>enginesize</th>\n",
       "      <th>transmission-automatic</th>\n",
       "      <th>transmission-manual</th>\n",
       "      <th>transmission-semi-auto</th>\n",
       "      <th>fueltype-diesel</th>\n",
       "      <th>fueltype-petrol</th>\n",
       "    </tr>\n",
       "  </thead>\n",
       "  <tbody>\n",
       "    <tr>\n",
       "      <th>0</th>\n",
       "      <td>2017</td>\n",
       "      <td>12000</td>\n",
       "      <td>15944</td>\n",
       "      <td>150</td>\n",
       "      <td>57.7</td>\n",
       "      <td>1.0</td>\n",
       "      <td>1</td>\n",
       "      <td>0</td>\n",
       "      <td>0</td>\n",
       "      <td>0</td>\n",
       "      <td>1</td>\n",
       "    </tr>\n",
       "    <tr>\n",
       "      <th>1</th>\n",
       "      <td>2018</td>\n",
       "      <td>14000</td>\n",
       "      <td>9083</td>\n",
       "      <td>150</td>\n",
       "      <td>57.7</td>\n",
       "      <td>1.0</td>\n",
       "      <td>0</td>\n",
       "      <td>1</td>\n",
       "      <td>0</td>\n",
       "      <td>0</td>\n",
       "      <td>1</td>\n",
       "    </tr>\n",
       "    <tr>\n",
       "      <th>2</th>\n",
       "      <td>2017</td>\n",
       "      <td>13000</td>\n",
       "      <td>12456</td>\n",
       "      <td>150</td>\n",
       "      <td>57.7</td>\n",
       "      <td>1.0</td>\n",
       "      <td>0</td>\n",
       "      <td>1</td>\n",
       "      <td>0</td>\n",
       "      <td>0</td>\n",
       "      <td>1</td>\n",
       "    </tr>\n",
       "    <tr>\n",
       "      <th>3</th>\n",
       "      <td>2019</td>\n",
       "      <td>17500</td>\n",
       "      <td>10460</td>\n",
       "      <td>145</td>\n",
       "      <td>40.3</td>\n",
       "      <td>1.5</td>\n",
       "      <td>0</td>\n",
       "      <td>1</td>\n",
       "      <td>0</td>\n",
       "      <td>0</td>\n",
       "      <td>1</td>\n",
       "    </tr>\n",
       "    <tr>\n",
       "      <th>4</th>\n",
       "      <td>2019</td>\n",
       "      <td>16500</td>\n",
       "      <td>1482</td>\n",
       "      <td>145</td>\n",
       "      <td>48.7</td>\n",
       "      <td>1.0</td>\n",
       "      <td>1</td>\n",
       "      <td>0</td>\n",
       "      <td>0</td>\n",
       "      <td>0</td>\n",
       "      <td>1</td>\n",
       "    </tr>\n",
       "    <tr>\n",
       "      <th>...</th>\n",
       "      <td>...</td>\n",
       "      <td>...</td>\n",
       "      <td>...</td>\n",
       "      <td>...</td>\n",
       "      <td>...</td>\n",
       "      <td>...</td>\n",
       "      <td>...</td>\n",
       "      <td>...</td>\n",
       "      <td>...</td>\n",
       "      <td>...</td>\n",
       "      <td>...</td>\n",
       "    </tr>\n",
       "    <tr>\n",
       "      <th>17961</th>\n",
       "      <td>2017</td>\n",
       "      <td>8999</td>\n",
       "      <td>16700</td>\n",
       "      <td>150</td>\n",
       "      <td>47.1</td>\n",
       "      <td>1.4</td>\n",
       "      <td>0</td>\n",
       "      <td>1</td>\n",
       "      <td>0</td>\n",
       "      <td>0</td>\n",
       "      <td>1</td>\n",
       "    </tr>\n",
       "    <tr>\n",
       "      <th>17962</th>\n",
       "      <td>2014</td>\n",
       "      <td>7499</td>\n",
       "      <td>40700</td>\n",
       "      <td>30</td>\n",
       "      <td>57.7</td>\n",
       "      <td>1.0</td>\n",
       "      <td>0</td>\n",
       "      <td>1</td>\n",
       "      <td>0</td>\n",
       "      <td>0</td>\n",
       "      <td>1</td>\n",
       "    </tr>\n",
       "    <tr>\n",
       "      <th>17963</th>\n",
       "      <td>2015</td>\n",
       "      <td>9999</td>\n",
       "      <td>7010</td>\n",
       "      <td>20</td>\n",
       "      <td>67.3</td>\n",
       "      <td>1.6</td>\n",
       "      <td>0</td>\n",
       "      <td>1</td>\n",
       "      <td>0</td>\n",
       "      <td>1</td>\n",
       "      <td>0</td>\n",
       "    </tr>\n",
       "    <tr>\n",
       "      <th>17964</th>\n",
       "      <td>2018</td>\n",
       "      <td>8299</td>\n",
       "      <td>5007</td>\n",
       "      <td>145</td>\n",
       "      <td>57.7</td>\n",
       "      <td>1.2</td>\n",
       "      <td>0</td>\n",
       "      <td>1</td>\n",
       "      <td>0</td>\n",
       "      <td>0</td>\n",
       "      <td>1</td>\n",
       "    </tr>\n",
       "    <tr>\n",
       "      <th>17965</th>\n",
       "      <td>2015</td>\n",
       "      <td>8299</td>\n",
       "      <td>5007</td>\n",
       "      <td>22</td>\n",
       "      <td>57.7</td>\n",
       "      <td>1.0</td>\n",
       "      <td>0</td>\n",
       "      <td>1</td>\n",
       "      <td>0</td>\n",
       "      <td>0</td>\n",
       "      <td>1</td>\n",
       "    </tr>\n",
       "  </tbody>\n",
       "</table>\n",
       "<p>17941 rows × 11 columns</p>\n",
       "</div>"
      ],
      "text/plain": [
       "       year  price  mileage  tax   mpg  enginesize  transmission-automatic  \\\n",
       "0      2017  12000    15944  150  57.7         1.0                       1   \n",
       "1      2018  14000     9083  150  57.7         1.0                       0   \n",
       "2      2017  13000    12456  150  57.7         1.0                       0   \n",
       "3      2019  17500    10460  145  40.3         1.5                       0   \n",
       "4      2019  16500     1482  145  48.7         1.0                       1   \n",
       "...     ...    ...      ...  ...   ...         ...                     ...   \n",
       "17961  2017   8999    16700  150  47.1         1.4                       0   \n",
       "17962  2014   7499    40700   30  57.7         1.0                       0   \n",
       "17963  2015   9999     7010   20  67.3         1.6                       0   \n",
       "17964  2018   8299     5007  145  57.7         1.2                       0   \n",
       "17965  2015   8299     5007   22  57.7         1.0                       0   \n",
       "\n",
       "       transmission-manual  transmission-semi-auto  fueltype-diesel  \\\n",
       "0                        0                       0                0   \n",
       "1                        1                       0                0   \n",
       "2                        1                       0                0   \n",
       "3                        1                       0                0   \n",
       "4                        0                       0                0   \n",
       "...                    ...                     ...              ...   \n",
       "17961                    1                       0                0   \n",
       "17962                    1                       0                0   \n",
       "17963                    1                       0                1   \n",
       "17964                    1                       0                0   \n",
       "17965                    1                       0                0   \n",
       "\n",
       "       fueltype-petrol  \n",
       "0                    1  \n",
       "1                    1  \n",
       "2                    1  \n",
       "3                    1  \n",
       "4                    1  \n",
       "...                ...  \n",
       "17961                1  \n",
       "17962                1  \n",
       "17963                0  \n",
       "17964                1  \n",
       "17965                1  \n",
       "\n",
       "[17941 rows x 11 columns]"
      ]
     },
     "execution_count": 23,
     "metadata": {},
     "output_type": "execute_result"
    }
   ],
   "source": [
    "#Asi nos quedaria el dataset final con el tratamiento de variables categoricas\n",
    "df"
   ]
  },
  {
   "cell_type": "markdown",
   "id": "0fb6546f",
   "metadata": {},
   "source": [
    "# Tratamiento de variables numericas"
   ]
  },
  {
   "cell_type": "code",
   "execution_count": 24,
   "id": "f6cfb9a7",
   "metadata": {},
   "outputs": [
    {
     "data": {
      "text/html": [
       "<div>\n",
       "<style scoped>\n",
       "    .dataframe tbody tr th:only-of-type {\n",
       "        vertical-align: middle;\n",
       "    }\n",
       "\n",
       "    .dataframe tbody tr th {\n",
       "        vertical-align: top;\n",
       "    }\n",
       "\n",
       "    .dataframe thead th {\n",
       "        text-align: right;\n",
       "    }\n",
       "</style>\n",
       "<table border=\"1\" class=\"dataframe\">\n",
       "  <thead>\n",
       "    <tr style=\"text-align: right;\">\n",
       "      <th></th>\n",
       "      <th>year</th>\n",
       "      <th>price</th>\n",
       "      <th>mileage</th>\n",
       "      <th>tax</th>\n",
       "      <th>mpg</th>\n",
       "      <th>enginesize</th>\n",
       "    </tr>\n",
       "  </thead>\n",
       "  <tbody>\n",
       "    <tr>\n",
       "      <th>0</th>\n",
       "      <td>2017</td>\n",
       "      <td>12000</td>\n",
       "      <td>15944</td>\n",
       "      <td>150</td>\n",
       "      <td>57.7</td>\n",
       "      <td>1.0</td>\n",
       "    </tr>\n",
       "    <tr>\n",
       "      <th>1</th>\n",
       "      <td>2018</td>\n",
       "      <td>14000</td>\n",
       "      <td>9083</td>\n",
       "      <td>150</td>\n",
       "      <td>57.7</td>\n",
       "      <td>1.0</td>\n",
       "    </tr>\n",
       "    <tr>\n",
       "      <th>2</th>\n",
       "      <td>2017</td>\n",
       "      <td>13000</td>\n",
       "      <td>12456</td>\n",
       "      <td>150</td>\n",
       "      <td>57.7</td>\n",
       "      <td>1.0</td>\n",
       "    </tr>\n",
       "    <tr>\n",
       "      <th>3</th>\n",
       "      <td>2019</td>\n",
       "      <td>17500</td>\n",
       "      <td>10460</td>\n",
       "      <td>145</td>\n",
       "      <td>40.3</td>\n",
       "      <td>1.5</td>\n",
       "    </tr>\n",
       "    <tr>\n",
       "      <th>4</th>\n",
       "      <td>2019</td>\n",
       "      <td>16500</td>\n",
       "      <td>1482</td>\n",
       "      <td>145</td>\n",
       "      <td>48.7</td>\n",
       "      <td>1.0</td>\n",
       "    </tr>\n",
       "    <tr>\n",
       "      <th>...</th>\n",
       "      <td>...</td>\n",
       "      <td>...</td>\n",
       "      <td>...</td>\n",
       "      <td>...</td>\n",
       "      <td>...</td>\n",
       "      <td>...</td>\n",
       "    </tr>\n",
       "    <tr>\n",
       "      <th>17961</th>\n",
       "      <td>2017</td>\n",
       "      <td>8999</td>\n",
       "      <td>16700</td>\n",
       "      <td>150</td>\n",
       "      <td>47.1</td>\n",
       "      <td>1.4</td>\n",
       "    </tr>\n",
       "    <tr>\n",
       "      <th>17962</th>\n",
       "      <td>2014</td>\n",
       "      <td>7499</td>\n",
       "      <td>40700</td>\n",
       "      <td>30</td>\n",
       "      <td>57.7</td>\n",
       "      <td>1.0</td>\n",
       "    </tr>\n",
       "    <tr>\n",
       "      <th>17963</th>\n",
       "      <td>2015</td>\n",
       "      <td>9999</td>\n",
       "      <td>7010</td>\n",
       "      <td>20</td>\n",
       "      <td>67.3</td>\n",
       "      <td>1.6</td>\n",
       "    </tr>\n",
       "    <tr>\n",
       "      <th>17964</th>\n",
       "      <td>2018</td>\n",
       "      <td>8299</td>\n",
       "      <td>5007</td>\n",
       "      <td>145</td>\n",
       "      <td>57.7</td>\n",
       "      <td>1.2</td>\n",
       "    </tr>\n",
       "    <tr>\n",
       "      <th>17965</th>\n",
       "      <td>2015</td>\n",
       "      <td>8299</td>\n",
       "      <td>5007</td>\n",
       "      <td>22</td>\n",
       "      <td>57.7</td>\n",
       "      <td>1.0</td>\n",
       "    </tr>\n",
       "  </tbody>\n",
       "</table>\n",
       "<p>17941 rows × 6 columns</p>\n",
       "</div>"
      ],
      "text/plain": [
       "       year  price  mileage  tax   mpg  enginesize\n",
       "0      2017  12000    15944  150  57.7         1.0\n",
       "1      2018  14000     9083  150  57.7         1.0\n",
       "2      2017  13000    12456  150  57.7         1.0\n",
       "3      2019  17500    10460  145  40.3         1.5\n",
       "4      2019  16500     1482  145  48.7         1.0\n",
       "...     ...    ...      ...  ...   ...         ...\n",
       "17961  2017   8999    16700  150  47.1         1.4\n",
       "17962  2014   7499    40700   30  57.7         1.0\n",
       "17963  2015   9999     7010   20  67.3         1.6\n",
       "17964  2018   8299     5007  145  57.7         1.2\n",
       "17965  2015   8299     5007   22  57.7         1.0\n",
       "\n",
       "[17941 rows x 6 columns]"
      ]
     },
     "execution_count": 24,
     "metadata": {},
     "output_type": "execute_result"
    }
   ],
   "source": [
    "data_num = df[['year', 'price', 'mileage', 'tax', 'mpg', 'enginesize']]\n",
    "data_num"
   ]
  },
  {
   "cell_type": "code",
   "execution_count": 25,
   "id": "19a4d6fe",
   "metadata": {},
   "outputs": [
    {
     "data": {
      "image/png": "[encoded data removed]",
      "text/plain": [
       "<Figure size 1700x100 with 1 Axes>"
      ]
     },
     "metadata": {},
     "output_type": "display_data"
    },
    {
     "data": {
      "image/png": "[encoded data removed]",
      "text/plain": [
       "<Figure size 1700x100 with 1 Axes>"
      ]
     },
     "metadata": {},
     "output_type": "display_data"
    },
    {
     "data": {
      "image/png": "[encoded data removed]",
      "text/plain": [
       "<Figure size 1700x100 with 1 Axes>"
      ]
     },
     "metadata": {},
     "output_type": "display_data"
    },
    {
     "data": {
      "image/png": "[encoded data removed]",
      "text/plain": [
       "<Figure size 1700x100 with 1 Axes>"
      ]
     },
     "metadata": {},
     "output_type": "display_data"
    },
    {
     "data": {
      "image/png": "[encoded data removed]",
      "text/plain": [
       "<Figure size 1700x100 with 1 Axes>"
      ]
     },
     "metadata": {},
     "output_type": "display_data"
    },
    {
     "data": {
      "image/png": "[encoded data removed]",
      "text/plain": [
       "<Figure size 1700x100 with 1 Axes>"
      ]
     },
     "metadata": {},
     "output_type": "display_data"
    }
   ],
   "source": [
    "#Visualizamos las distribuciones de las variables numericas. Podemos observar un gran numero de outliers en Mileage y Year\n",
    "\n",
    "for column in data_num:\n",
    "        plt.figure(figsize=(17,1))\n",
    "        plt.title(column)\n",
    "        sns.boxplot(data=data_num, x=column)"
   ]
  },
  {
   "cell_type": "code",
   "execution_count": 26,
   "id": "a265f770",
   "metadata": {},
   "outputs": [],
   "source": [
    "#definción de la función que nos permitirá eliminar los outliers #codigo de la clase\n",
    "#para cada variable (columna)\n",
    "def eliminar_outlier(col): \n",
    "    sorted(col)\n",
    "    Q1,Q3=np.percentile(col,[25,75])\n",
    "    IQR=Q3-Q1\n",
    "    lowerthr= Q1-(1.5 * IQR) #UMBRAL INFERIOR\n",
    "    upperthr= Q3+(1.5 * IQR) #UMBRAL SUPERIOR\n",
    "    return lowerthr,upperthr"
   ]
  },
  {
   "cell_type": "code",
   "execution_count": 27,
   "id": "cd1c0cdd",
   "metadata": {},
   "outputs": [
    {
     "name": "stderr",
     "output_type": "stream",
     "text": [
      "C:\\Users\\micha\\AppData\\Local\\Temp\\ipykernel_3476\\3945530209.py:4: SettingWithCopyWarning: \n",
      "A value is trying to be set on a copy of a slice from a DataFrame.\n",
      "Try using .loc[row_indexer,col_indexer] = value instead\n",
      "\n",
      "See the caveats in the documentation: https://pandas.pydata.org/pandas-docs/stable/user_guide/indexing.html#returning-a-view-versus-a-copy\n",
      "  data_num[column]=np.where(data_num[column]>upperthr,upperthr,data_num[column])\n",
      "C:\\Users\\micha\\AppData\\Local\\Temp\\ipykernel_3476\\3945530209.py:5: SettingWithCopyWarning: \n",
      "A value is trying to be set on a copy of a slice from a DataFrame.\n",
      "Try using .loc[row_indexer,col_indexer] = value instead\n",
      "\n",
      "See the caveats in the documentation: https://pandas.pydata.org/pandas-docs/stable/user_guide/indexing.html#returning-a-view-versus-a-copy\n",
      "  data_num[column]=np.where(data_num[column]<lowerthr,lowerthr,data_num[column])\n"
     ]
    }
   ],
   "source": [
    "for column in data_num.columns: #aplicamos la función eliminar_outlier para cada variable (columna) del dataframe\n",
    "    if data_num[column].dtype != 'object': \n",
    "        lowerthr,upperthr=eliminar_outlier(data_num[column])\n",
    "        data_num[column]=np.where(data_num[column]>upperthr,upperthr,data_num[column])\n",
    "        data_num[column]=np.where(data_num[column]<lowerthr,lowerthr,data_num[column])"
   ]
  },
  {
   "cell_type": "code",
   "execution_count": 28,
   "id": "25e2f64e",
   "metadata": {},
   "outputs": [
    {
     "data": {
      "image/png": "[encoded data removed]",
      "text/plain": [
       "<Figure size 1700x100 with 1 Axes>"
      ]
     },
     "metadata": {},
     "output_type": "display_data"
    },
    {
     "data": {
      "image/png": "[encoded data removed]",
      "text/plain": [
       "<Figure size 1700x100 with 1 Axes>"
      ]
     },
     "metadata": {},
     "output_type": "display_data"
    },
    {
     "data": {
      "image/png": "[encoded data removed]",
      "text/plain": [
       "<Figure size 1700x100 with 1 Axes>"
      ]
     },
     "metadata": {},
     "output_type": "display_data"
    },
    {
     "data": {
      "image/png": "[encoded data removed]",
      "text/plain": [
       "<Figure size 1700x100 with 1 Axes>"
      ]
     },
     "metadata": {},
     "output_type": "display_data"
    },
    {
     "data": {
      "image/png": "[encoded data removed]",
      "text/plain": [
       "<Figure size 1700x100 with 1 Axes>"
      ]
     },
     "metadata": {},
     "output_type": "display_data"
    },
    {
     "data": {
      "image/png": "[encoded data removed]",
      "text/plain": [
       "<Figure size 1700x100 with 1 Axes>"
      ]
     },
     "metadata": {},
     "output_type": "display_data"
    }
   ],
   "source": [
    "#Removemos outliers del dataset con variables numericas utilizando la funcion vista en clase.\n",
    "\n",
    "for column in data_num:\n",
    "        plt.figure(figsize=(17,1))\n",
    "        sns.boxplot(data=data_num, x=column)"
   ]
  },
  {
   "cell_type": "code",
   "execution_count": 29,
   "id": "7133b5e4",
   "metadata": {},
   "outputs": [
    {
     "data": {
      "text/html": [
       "<div>\n",
       "<style scoped>\n",
       "    .dataframe tbody tr th:only-of-type {\n",
       "        vertical-align: middle;\n",
       "    }\n",
       "\n",
       "    .dataframe tbody tr th {\n",
       "        vertical-align: top;\n",
       "    }\n",
       "\n",
       "    .dataframe thead th {\n",
       "        text-align: right;\n",
       "    }\n",
       "</style>\n",
       "<table border=\"1\" class=\"dataframe\">\n",
       "  <thead>\n",
       "    <tr style=\"text-align: right;\">\n",
       "      <th></th>\n",
       "      <th>year</th>\n",
       "      <th>mileage</th>\n",
       "      <th>tax</th>\n",
       "      <th>mpg</th>\n",
       "      <th>enginesize</th>\n",
       "      <th>transmission-automatic</th>\n",
       "      <th>transmission-manual</th>\n",
       "      <th>transmission-semi-auto</th>\n",
       "      <th>fueltype-diesel</th>\n",
       "      <th>fueltype-petrol</th>\n",
       "    </tr>\n",
       "  </thead>\n",
       "  <tbody>\n",
       "    <tr>\n",
       "      <th>year</th>\n",
       "      <td>1.000000</td>\n",
       "      <td>-0.708062</td>\n",
       "      <td>0.298129</td>\n",
       "      <td>-0.029038</td>\n",
       "      <td>-0.139098</td>\n",
       "      <td>0.035054</td>\n",
       "      <td>-0.036376</td>\n",
       "      <td>0.013520</td>\n",
       "      <td>-0.088320</td>\n",
       "      <td>0.088320</td>\n",
       "    </tr>\n",
       "    <tr>\n",
       "      <th>mileage</th>\n",
       "      <td>-0.708062</td>\n",
       "      <td>1.000000</td>\n",
       "      <td>-0.259468</td>\n",
       "      <td>0.127225</td>\n",
       "      <td>0.216147</td>\n",
       "      <td>-0.051171</td>\n",
       "      <td>0.060036</td>\n",
       "      <td>-0.029682</td>\n",
       "      <td>0.258059</td>\n",
       "      <td>-0.258059</td>\n",
       "    </tr>\n",
       "    <tr>\n",
       "      <th>tax</th>\n",
       "      <td>0.298129</td>\n",
       "      <td>-0.259468</td>\n",
       "      <td>1.000000</td>\n",
       "      <td>-0.518949</td>\n",
       "      <td>0.185852</td>\n",
       "      <td>0.158499</td>\n",
       "      <td>-0.184169</td>\n",
       "      <td>0.089371</td>\n",
       "      <td>-0.129454</td>\n",
       "      <td>0.129454</td>\n",
       "    </tr>\n",
       "    <tr>\n",
       "      <th>mpg</th>\n",
       "      <td>-0.029038</td>\n",
       "      <td>0.127225</td>\n",
       "      <td>-0.518949</td>\n",
       "      <td>1.000000</td>\n",
       "      <td>-0.279921</td>\n",
       "      <td>-0.251970</td>\n",
       "      <td>0.322916</td>\n",
       "      <td>-0.185295</td>\n",
       "      <td>0.305175</td>\n",
       "      <td>-0.305175</td>\n",
       "    </tr>\n",
       "    <tr>\n",
       "      <th>enginesize</th>\n",
       "      <td>-0.139098</td>\n",
       "      <td>0.216147</td>\n",
       "      <td>0.185852</td>\n",
       "      <td>-0.279921</td>\n",
       "      <td>1.000000</td>\n",
       "      <td>0.158393</td>\n",
       "      <td>-0.219877</td>\n",
       "      <td>0.140695</td>\n",
       "      <td>0.645421</td>\n",
       "      <td>-0.645421</td>\n",
       "    </tr>\n",
       "    <tr>\n",
       "      <th>transmission-automatic</th>\n",
       "      <td>0.035054</td>\n",
       "      <td>-0.051171</td>\n",
       "      <td>0.158499</td>\n",
       "      <td>-0.251970</td>\n",
       "      <td>0.158393</td>\n",
       "      <td>1.000000</td>\n",
       "      <td>-0.718535</td>\n",
       "      <td>-0.072052</td>\n",
       "      <td>0.061305</td>\n",
       "      <td>-0.061305</td>\n",
       "    </tr>\n",
       "    <tr>\n",
       "      <th>transmission-manual</th>\n",
       "      <td>-0.036376</td>\n",
       "      <td>0.060036</td>\n",
       "      <td>-0.184169</td>\n",
       "      <td>0.322916</td>\n",
       "      <td>-0.219877</td>\n",
       "      <td>-0.718535</td>\n",
       "      <td>1.000000</td>\n",
       "      <td>-0.641912</td>\n",
       "      <td>-0.101095</td>\n",
       "      <td>0.101095</td>\n",
       "    </tr>\n",
       "    <tr>\n",
       "      <th>transmission-semi-auto</th>\n",
       "      <td>0.013520</td>\n",
       "      <td>-0.029682</td>\n",
       "      <td>0.089371</td>\n",
       "      <td>-0.185295</td>\n",
       "      <td>0.140695</td>\n",
       "      <td>-0.072052</td>\n",
       "      <td>-0.641912</td>\n",
       "      <td>1.000000</td>\n",
       "      <td>0.077392</td>\n",
       "      <td>-0.077392</td>\n",
       "    </tr>\n",
       "    <tr>\n",
       "      <th>fueltype-diesel</th>\n",
       "      <td>-0.088320</td>\n",
       "      <td>0.258059</td>\n",
       "      <td>-0.129454</td>\n",
       "      <td>0.305175</td>\n",
       "      <td>0.645421</td>\n",
       "      <td>0.061305</td>\n",
       "      <td>-0.101095</td>\n",
       "      <td>0.077392</td>\n",
       "      <td>1.000000</td>\n",
       "      <td>-1.000000</td>\n",
       "    </tr>\n",
       "    <tr>\n",
       "      <th>fueltype-petrol</th>\n",
       "      <td>0.088320</td>\n",
       "      <td>-0.258059</td>\n",
       "      <td>0.129454</td>\n",
       "      <td>-0.305175</td>\n",
       "      <td>-0.645421</td>\n",
       "      <td>-0.061305</td>\n",
       "      <td>0.101095</td>\n",
       "      <td>-0.077392</td>\n",
       "      <td>-1.000000</td>\n",
       "      <td>1.000000</td>\n",
       "    </tr>\n",
       "  </tbody>\n",
       "</table>\n",
       "</div>"
      ],
      "text/plain": [
       "                            year   mileage       tax       mpg  enginesize  \\\n",
       "year                    1.000000 -0.708062  0.298129 -0.029038   -0.139098   \n",
       "mileage                -0.708062  1.000000 -0.259468  0.127225    0.216147   \n",
       "tax                     0.298129 -0.259468  1.000000 -0.518949    0.185852   \n",
       "mpg                    -0.029038  0.127225 -0.518949  1.000000   -0.279921   \n",
       "enginesize             -0.139098  0.216147  0.185852 -0.279921    1.000000   \n",
       "transmission-automatic  0.035054 -0.051171  0.158499 -0.251970    0.158393   \n",
       "transmission-manual    -0.036376  0.060036 -0.184169  0.322916   -0.219877   \n",
       "transmission-semi-auto  0.013520 -0.029682  0.089371 -0.185295    0.140695   \n",
       "fueltype-diesel        -0.088320  0.258059 -0.129454  0.305175    0.645421   \n",
       "fueltype-petrol         0.088320 -0.258059  0.129454 -0.305175   -0.645421   \n",
       "\n",
       "                        transmission-automatic  transmission-manual  \\\n",
       "year                                  0.035054            -0.036376   \n",
       "mileage                              -0.051171             0.060036   \n",
       "tax                                   0.158499            -0.184169   \n",
       "mpg                                  -0.251970             0.322916   \n",
       "enginesize                            0.158393            -0.219877   \n",
       "transmission-automatic                1.000000            -0.718535   \n",
       "transmission-manual                  -0.718535             1.000000   \n",
       "transmission-semi-auto               -0.072052            -0.641912   \n",
       "fueltype-diesel                       0.061305            -0.101095   \n",
       "fueltype-petrol                      -0.061305             0.101095   \n",
       "\n",
       "                        transmission-semi-auto  fueltype-diesel  \\\n",
       "year                                  0.013520        -0.088320   \n",
       "mileage                              -0.029682         0.258059   \n",
       "tax                                   0.089371        -0.129454   \n",
       "mpg                                  -0.185295         0.305175   \n",
       "enginesize                            0.140695         0.645421   \n",
       "transmission-automatic               -0.072052         0.061305   \n",
       "transmission-manual                  -0.641912        -0.101095   \n",
       "transmission-semi-auto                1.000000         0.077392   \n",
       "fueltype-diesel                       0.077392         1.000000   \n",
       "fueltype-petrol                      -0.077392        -1.000000   \n",
       "\n",
       "                        fueltype-petrol  \n",
       "year                           0.088320  \n",
       "mileage                       -0.258059  \n",
       "tax                            0.129454  \n",
       "mpg                           -0.305175  \n",
       "enginesize                    -0.645421  \n",
       "transmission-automatic        -0.061305  \n",
       "transmission-manual            0.101095  \n",
       "transmission-semi-auto        -0.077392  \n",
       "fueltype-diesel               -1.000000  \n",
       "fueltype-petrol                1.000000  "
      ]
     },
     "execution_count": 29,
     "metadata": {},
     "output_type": "execute_result"
    }
   ],
   "source": [
    "#Creamos un dataset de correlacion sin tomar en cuenta el precio, ya que es la variable que deseamos predecir\n",
    "corr = df.select_dtypes(\"number\").drop(columns=\"price\").corr() \n",
    "corr"
   ]
  },
  {
   "cell_type": "markdown",
   "id": "025780b7",
   "metadata": {},
   "source": [
    "# Estandarizacion de los datos (Codigo utilizado de la clase)"
   ]
  },
  {
   "cell_type": "code",
   "execution_count": 30,
   "id": "da042fd6",
   "metadata": {},
   "outputs": [
    {
     "data": {
      "text/plain": [
       "Index(['year', 'price', 'mileage', 'tax', 'mpg', 'enginesize',\n",
       "       'transmission-automatic', 'transmission-manual',\n",
       "       'transmission-semi-auto', 'fueltype-diesel', 'fueltype-petrol'],\n",
       "      dtype='object')"
      ]
     },
     "execution_count": 30,
     "metadata": {},
     "output_type": "execute_result"
    }
   ],
   "source": [
    "dfestand=df.copy()\n",
    "dfestand.columns"
   ]
  },
  {
   "cell_type": "code",
   "execution_count": 32,
   "id": "adabfc84",
   "metadata": {},
   "outputs": [],
   "source": [
    "from sklearn.preprocessing import StandardScaler #importamos la librería para estandarizar\n",
    "\n",
    "scalerX = StandardScaler()\n",
    "lista_columnas=['year', 'mileage', 'tax', 'mpg', 'enginesize',\n",
    "       'fueltype-diesel', 'fueltype-petrol',\n",
    "       'transmission-automatic', 'transmission-manual',\n",
    "       'transmission-semi-auto']\n",
    "dfestand[lista_columnas] = scalerX.fit_transform(dfestand[lista_columnas])"
   ]
  },
  {
   "cell_type": "code",
   "execution_count": 33,
   "id": "6d5c0849",
   "metadata": {},
   "outputs": [],
   "source": [
    "scalerY = StandardScaler()\n",
    "\n",
    "dfestand['price']=scalerY.fit_transform(np.array(dfestand['price']).reshape(len(dfestand['price']),1)).reshape(len(dfestand['price']))"
   ]
  },
  {
   "cell_type": "markdown",
   "id": "ccf0b1de",
   "metadata": {},
   "source": [
    "# Creacion de las muestras de entrenamiento y test (Codigo de la clase)"
   ]
  },
  {
   "cell_type": "code",
   "execution_count": 34,
   "id": "087d993f",
   "metadata": {},
   "outputs": [],
   "source": [
    "X = dfestand.drop(['price'],axis=1).values\n",
    "Y = dfestand['price'].values"
   ]
  },
  {
   "cell_type": "code",
   "execution_count": 35,
   "id": "1d20d9e5",
   "metadata": {},
   "outputs": [],
   "source": [
    "from sklearn.model_selection import train_test_split #importamos la función para construir las muestras de entrenamiento y de test.\n",
    "X_train,X_test,Y_train,Y_test = train_test_split(X,Y,random_state=0,test_size=0.3)"
   ]
  },
  {
   "cell_type": "code",
   "execution_count": 36,
   "id": "a5baff8b",
   "metadata": {},
   "outputs": [
    {
     "data": {
      "text/plain": [
       "[(12558, 10), (12558,)]"
      ]
     },
     "execution_count": 36,
     "metadata": {},
     "output_type": "execute_result"
    }
   ],
   "source": [
    "[X_train.shape, Y_train.shape] #comprobamos las dimensiones de la muestra de train"
   ]
  },
  {
   "cell_type": "code",
   "execution_count": 37,
   "id": "b4c24ab9",
   "metadata": {},
   "outputs": [
    {
     "data": {
      "text/plain": [
       "[(5383, 10), (5383,)]"
      ]
     },
     "execution_count": 37,
     "metadata": {},
     "output_type": "execute_result"
    }
   ],
   "source": [
    "[X_test.shape, Y_test.shape] #comprobamos las dimensiones de la muestra de test"
   ]
  },
  {
   "cell_type": "markdown",
   "id": "4539643e",
   "metadata": {},
   "source": [
    "# Construccion del modelo"
   ]
  },
  {
   "cell_type": "code",
   "execution_count": 38,
   "id": "1e187965",
   "metadata": {},
   "outputs": [],
   "source": [
    "from sklearn.linear_model import LinearRegression #Importamos la función regresión lineal\n",
    "import sklearn.metrics as metrics\n",
    "from sklearn.metrics import mean_squared_error #Importamos la función MSE\n",
    "#Obtención del modelo de regresión lineal para la muestra de entrenamiento\n",
    "lr= LinearRegression() \n",
    "lr.fit(X_train, Y_train) #construcción del modelo a partir de los datos de entrenamiento.\n",
    "#Cálculo de los valores predichos a partir de la muestra de entrenamiento\n",
    "Y_train_pred= lr.predict(X_train)\n",
    "#Cálculo de los valores predichos a partir de la muestra de test\n",
    "Y_test_pred= lr.predict(X_test)"
   ]
  },
  {
   "cell_type": "code",
   "execution_count": 39,
   "id": "42c17397",
   "metadata": {},
   "outputs": [
    {
     "data": {
      "text/plain": [
       "array([ 4.96469269e-01, -2.57394709e-01,  9.49232226e-04, -2.70706481e-01,\n",
       "        3.45659049e-01,  1.03877097e+11,  1.35119958e+11,  9.42196405e+10,\n",
       "        2.98571098e+07,  2.98571096e+07])"
      ]
     },
     "execution_count": 39,
     "metadata": {},
     "output_type": "execute_result"
    }
   ],
   "source": [
    "parametroslr=lr.coef_\n",
    "parametroslr"
   ]
  },
  {
   "cell_type": "code",
   "execution_count": 40,
   "id": "522339e9",
   "metadata": {},
   "outputs": [
    {
     "data": {
      "text/plain": [
       "0.0014328104090779812"
      ]
     },
     "execution_count": 40,
     "metadata": {},
     "output_type": "execute_result"
    }
   ],
   "source": [
    "lr.intercept_ #lr.intercept es prácticamente cero ya que hemos estandarizado todas las variables por lo que la función de distribución de todas ellas se encuentra centrada en el origen."
   ]
  },
  {
   "cell_type": "code",
   "execution_count": 41,
   "id": "224e60ab",
   "metadata": {},
   "outputs": [
    {
     "name": "stdout",
     "output_type": "stream",
     "text": [
      "[[15216.75664307]\n",
      " [16709.02635365]\n",
      " [16674.42537101]\n",
      " ...\n",
      " [ 9354.40728123]\n",
      " [ 9339.05888879]\n",
      " [11278.15562393]]\n"
     ]
    }
   ],
   "source": [
    "Y_test_pred2D= Y_test_pred.reshape(-1,1) # debemos hacer esta transformación de un array 1D a uno 2D para poder ejecutar inverse_tranform\n",
    "Y_test_pred_inv = scalerY.inverse_transform(Y_test_pred2D)\n",
    "print(Y_test_pred_inv)"
   ]
  },
  {
   "cell_type": "markdown",
   "id": "be4b6b6e",
   "metadata": {},
   "source": [
    "# Evaluación de la bondad del ajuste\n"
   ]
  },
  {
   "cell_type": "code",
   "execution_count": 42,
   "id": "4c5b450f",
   "metadata": {},
   "outputs": [],
   "source": [
    "def calculametricas(y_test, y_pred):\n",
    "    mae = metrics.mean_absolute_error(y_test, y_pred) #Error absoluto medio (MAE)\n",
    "    mse = metrics.mean_squared_error(y_test, y_pred) #Error cuadrático medio (MSE)\n",
    "    rmse = math.sqrt(mse) #Error estándar de la estimación (RMSE)\n",
    "    r2 = metrics.r2_score(y_test, y_pred) #Cálculo del coeficiente de determinación R2\n",
    "    print(\"MAE : \",mae)\n",
    "    print(\"MSE : \",mse)\n",
    "    print(\"RMSE : \",rmse)\n",
    "    print(\"R2 : \",r2)\n",
    "    return mae,mse,rmse,r2"
   ]
  },
  {
   "cell_type": "code",
   "execution_count": 43,
   "id": "f6850ca2",
   "metadata": {},
   "outputs": [
    {
     "name": "stdout",
     "output_type": "stream",
     "text": [
      "Métricas calculadas sobre la muestra de entrenamiento:\n",
      "MAE :  0.36845571879055994\n",
      "MSE :  0.26158534067368056\n",
      "RMSE :  0.5114541432755048\n",
      "R2 :  0.7411549873510141\n"
     ]
    }
   ],
   "source": [
    "print('Métricas calculadas sobre la muestra de entrenamiento:')\n",
    "metricasLR_train=calculametricas(Y_train, Y_train_pred)"
   ]
  },
  {
   "cell_type": "code",
   "execution_count": 44,
   "id": "b88a8ea4",
   "metadata": {},
   "outputs": [
    {
     "name": "stdout",
     "output_type": "stream",
     "text": [
      "Métricas calculadas sobre la muestra de test:\n",
      "MAE :  0.3652717396225297\n",
      "MSE :  0.2438079959239867\n",
      "RMSE :  0.4937691727153354\n",
      "R2 :  0.7499983669259707\n"
     ]
    }
   ],
   "source": [
    "print('Métricas calculadas sobre la muestra de test:')\n",
    "metricasLR_test=calculametricas(Y_test, Y_test_pred)"
   ]
  },
  {
   "cell_type": "code",
   "execution_count": 45,
   "id": "0c0d864b",
   "metadata": {},
   "outputs": [
    {
     "data": {
      "text/html": [
       "<div>\n",
       "<style scoped>\n",
       "    .dataframe tbody tr th:only-of-type {\n",
       "        vertical-align: middle;\n",
       "    }\n",
       "\n",
       "    .dataframe tbody tr th {\n",
       "        vertical-align: top;\n",
       "    }\n",
       "\n",
       "    .dataframe thead th {\n",
       "        text-align: right;\n",
       "    }\n",
       "</style>\n",
       "<table border=\"1\" class=\"dataframe\">\n",
       "  <thead>\n",
       "    <tr style=\"text-align: right;\">\n",
       "      <th></th>\n",
       "      <th>train</th>\n",
       "      <th>test</th>\n",
       "    </tr>\n",
       "  </thead>\n",
       "  <tbody>\n",
       "    <tr>\n",
       "      <th>MAE</th>\n",
       "      <td>0.368456</td>\n",
       "      <td>0.365272</td>\n",
       "    </tr>\n",
       "    <tr>\n",
       "      <th>MSE</th>\n",
       "      <td>0.261585</td>\n",
       "      <td>0.243808</td>\n",
       "    </tr>\n",
       "    <tr>\n",
       "      <th>RMSE</th>\n",
       "      <td>0.511454</td>\n",
       "      <td>0.493769</td>\n",
       "    </tr>\n",
       "    <tr>\n",
       "      <th>R2</th>\n",
       "      <td>0.741155</td>\n",
       "      <td>0.749998</td>\n",
       "    </tr>\n",
       "  </tbody>\n",
       "</table>\n",
       "</div>"
      ],
      "text/plain": [
       "         train      test\n",
       "MAE   0.368456  0.365272\n",
       "MSE   0.261585  0.243808\n",
       "RMSE  0.511454  0.493769\n",
       "R2    0.741155  0.749998"
      ]
     },
     "execution_count": 45,
     "metadata": {},
     "output_type": "execute_result"
    }
   ],
   "source": [
    "#Los indicadores parecen ser muy similares para las dos muestras mas sin embargo no demuestra sobreajuste.\n",
    "\n",
    "dfmetricasLR_train=pd.DataFrame(metricasLR_train).rename(columns = {0:'train'})\n",
    "dfmetricasLR_test=pd.DataFrame(metricasLR_test).rename(columns = {0:'test'})\n",
    "dfmetricasLR_traintest=pd.concat([dfmetricasLR_train,dfmetricasLR_test], axis=1, ignore_index=True)\n",
    "dfmetricasLR_traintest = dfmetricasLR_traintest.rename(columns = {0:'train',1:'test'},index={0: 'MAE',1:'MSE',2:'RMSE',3:'R2'})\n",
    "dfmetricasLR_traintest"
   ]
  },
  {
   "cell_type": "markdown",
   "id": "36701a94",
   "metadata": {},
   "source": [
    "### Diagrama de dispersión de los valores predichos frente a los valores reales (estandarizados)\n"
   ]
  },
  {
   "cell_type": "code",
   "execution_count": 46,
   "id": "c945029f",
   "metadata": {},
   "outputs": [],
   "source": [
    "sY_test = pd.Series(Y_test)\n",
    "sY_test.name = 'Y_test'"
   ]
  },
  {
   "cell_type": "code",
   "execution_count": 47,
   "id": "068e6c56",
   "metadata": {},
   "outputs": [],
   "source": [
    "sY_test_pred= pd.Series(Y_test_pred)\n",
    "sY_test_pred.name = 'Y_test_pred'"
   ]
  },
  {
   "cell_type": "code",
   "execution_count": 48,
   "id": "2c990fbe",
   "metadata": {},
   "outputs": [
    {
     "data": {
      "text/html": [
       "<div>\n",
       "<style scoped>\n",
       "    .dataframe tbody tr th:only-of-type {\n",
       "        vertical-align: middle;\n",
       "    }\n",
       "\n",
       "    .dataframe tbody tr th {\n",
       "        vertical-align: top;\n",
       "    }\n",
       "\n",
       "    .dataframe thead th {\n",
       "        text-align: right;\n",
       "    }\n",
       "</style>\n",
       "<table border=\"1\" class=\"dataframe\">\n",
       "  <thead>\n",
       "    <tr style=\"text-align: right;\">\n",
       "      <th></th>\n",
       "      <th>Y_test</th>\n",
       "      <th>Y_test_pred</th>\n",
       "    </tr>\n",
       "  </thead>\n",
       "  <tbody>\n",
       "    <tr>\n",
       "      <th>0</th>\n",
       "      <td>1.133113</td>\n",
       "      <td>0.624403</td>\n",
       "    </tr>\n",
       "    <tr>\n",
       "      <th>1</th>\n",
       "      <td>0.874656</td>\n",
       "      <td>0.940281</td>\n",
       "    </tr>\n",
       "    <tr>\n",
       "      <th>2</th>\n",
       "      <td>0.895612</td>\n",
       "      <td>0.932957</td>\n",
       "    </tr>\n",
       "    <tr>\n",
       "      <th>3</th>\n",
       "      <td>-1.432831</td>\n",
       "      <td>-1.339214</td>\n",
       "    </tr>\n",
       "    <tr>\n",
       "      <th>4</th>\n",
       "      <td>-0.586125</td>\n",
       "      <td>-0.148701</td>\n",
       "    </tr>\n",
       "  </tbody>\n",
       "</table>\n",
       "</div>"
      ],
      "text/plain": [
       "     Y_test  Y_test_pred\n",
       "0  1.133113     0.624403\n",
       "1  0.874656     0.940281\n",
       "2  0.895612     0.932957\n",
       "3 -1.432831    -1.339214\n",
       "4 -0.586125    -0.148701"
      ]
     },
     "execution_count": 48,
     "metadata": {},
     "output_type": "execute_result"
    }
   ],
   "source": [
    "dfYs = pd.concat([sY_test, sY_test_pred], axis=1)\n",
    "dfYs.head()"
   ]
  },
  {
   "cell_type": "code",
   "execution_count": 49,
   "id": "8cc2db28",
   "metadata": {
    "scrolled": false
   },
   "outputs": [
    {
     "data": {
      "image/png": "[encoded data removed]",
      "text/plain": [
       "<Figure size 1000x800 with 1 Axes>"
      ]
     },
     "metadata": {},
     "output_type": "display_data"
    }
   ],
   "source": [
    "#Este grafico muestra como los datos predichos tienen una relacion lineal con las datos reales.\n",
    "#Esto es un buen indicador, demuestra que el modelo se ha ajustado bien.\n",
    "\n",
    "plt.figure(figsize=(10,8))\n",
    "sns.scatterplot(data=dfYs, x=\"Y_test\", y=\"Y_test_pred\",color=\"b\")\n",
    "#--------------------código para el diseño del gráfico---------------------------------\n",
    "plt.xlabel('precio real (valores estandarizados)', fontsize='20')\n",
    "plt.ylabel('precio (valores estandarizados)', fontsize='20')\n",
    "plt.plot([-2,2],[-2,2],'--r')\n",
    "plt.xticks(size=20)\n",
    "plt.yticks(size=20)\n",
    "plt.show()"
   ]
  },
  {
   "cell_type": "markdown",
   "id": "1b49114e",
   "metadata": {},
   "source": [
    "## Diagrama de dispersión de los valores predichos frente a los valores reales (en las unidades de origen)"
   ]
  },
  {
   "cell_type": "code",
   "execution_count": 50,
   "id": "9381ec2a",
   "metadata": {},
   "outputs": [],
   "source": [
    "#Primero, invertimos la estandarizacion de los datos\n",
    "Y_test_pred2D= Y_test_pred.reshape(-1,1) # debemos hacer esta transformación de un array 1D a uno 2D para poder ejecutar inverse_tranform"
   ]
  },
  {
   "cell_type": "code",
   "execution_count": 51,
   "id": "fb070070",
   "metadata": {},
   "outputs": [
    {
     "data": {
      "text/plain": [
       "array([[15216.75664307],\n",
       "       [16709.02635365],\n",
       "       [16674.42537101],\n",
       "       ...,\n",
       "       [ 9354.40728123],\n",
       "       [ 9339.05888879],\n",
       "       [11278.15562393]])"
      ]
     },
     "execution_count": 51,
     "metadata": {},
     "output_type": "execute_result"
    }
   ],
   "source": [
    "Y_test_pred_inv = scalerY.inverse_transform(Y_test_pred2D)\n",
    "Y_test_pred_inv #mostramos en pantalla los valores predichos en las unidades originales."
   ]
  },
  {
   "cell_type": "code",
   "execution_count": 52,
   "id": "2aac3749",
   "metadata": {},
   "outputs": [],
   "source": [
    "Y_test2D= Y_test.reshape(-1,1) # debemos hacer esta transformación de un array 1D a uno 2D para poder ejecutar inverse_tranform"
   ]
  },
  {
   "cell_type": "code",
   "execution_count": 53,
   "id": "6c4f5fd2",
   "metadata": {},
   "outputs": [
    {
     "data": {
      "text/plain": [
       "(5383,)"
      ]
     },
     "execution_count": 53,
     "metadata": {},
     "output_type": "execute_result"
    }
   ],
   "source": [
    "Y_test_inv = scalerY.inverse_transform(Y_test2D)\n",
    "Y_test_inv[:,0].shape"
   ]
  },
  {
   "cell_type": "code",
   "execution_count": 54,
   "id": "6aeeae9e",
   "metadata": {},
   "outputs": [],
   "source": [
    "sY_test_inv = pd.Series(Y_test_inv[:,0]) #con Y_test_inv[:,0] convertimos el array 2D en 1D\n",
    "sY_test_inv.name = 'Y_test_inv'"
   ]
  },
  {
   "cell_type": "code",
   "execution_count": 55,
   "id": "5c1331ec",
   "metadata": {},
   "outputs": [],
   "source": [
    "sY_test_pred_inv= pd.Series(Y_test_pred_inv[:,0])\n",
    "sY_test_pred_inv.name = 'Y_test_pred_inv'"
   ]
  },
  {
   "cell_type": "code",
   "execution_count": 74,
   "id": "b9e85e4b",
   "metadata": {},
   "outputs": [],
   "source": [
    "dfYinv = pd.concat([sY_test_inv, sY_test_pred_inv], axis=1)\n",
    "dfYinv['Dif'] = np.abs(dfYinv.Y_test_pred_inv - dfYinv.Y_test_inv)"
   ]
  },
  {
   "cell_type": "code",
   "execution_count": 75,
   "id": "953fa682",
   "metadata": {
    "scrolled": true
   },
   "outputs": [
    {
     "data": {
      "text/html": [
       "<div>\n",
       "<style scoped>\n",
       "    .dataframe tbody tr th:only-of-type {\n",
       "        vertical-align: middle;\n",
       "    }\n",
       "\n",
       "    .dataframe tbody tr th {\n",
       "        vertical-align: top;\n",
       "    }\n",
       "\n",
       "    .dataframe thead th {\n",
       "        text-align: right;\n",
       "    }\n",
       "</style>\n",
       "<table border=\"1\" class=\"dataframe\">\n",
       "  <thead>\n",
       "    <tr style=\"text-align: right;\">\n",
       "      <th></th>\n",
       "      <th>Y_test_inv</th>\n",
       "      <th>Y_test_pred_inv</th>\n",
       "      <th>Dif</th>\n",
       "    </tr>\n",
       "  </thead>\n",
       "  <tbody>\n",
       "    <tr>\n",
       "      <th>0</th>\n",
       "      <td>17620.0</td>\n",
       "      <td>15216.756643</td>\n",
       "      <td>2403.243357</td>\n",
       "    </tr>\n",
       "    <tr>\n",
       "      <th>1</th>\n",
       "      <td>16399.0</td>\n",
       "      <td>16709.026354</td>\n",
       "      <td>310.026354</td>\n",
       "    </tr>\n",
       "    <tr>\n",
       "      <th>2</th>\n",
       "      <td>16498.0</td>\n",
       "      <td>16674.425371</td>\n",
       "      <td>176.425371</td>\n",
       "    </tr>\n",
       "    <tr>\n",
       "      <th>3</th>\n",
       "      <td>5498.0</td>\n",
       "      <td>5940.263448</td>\n",
       "      <td>442.263448</td>\n",
       "    </tr>\n",
       "    <tr>\n",
       "      <th>4</th>\n",
       "      <td>9498.0</td>\n",
       "      <td>11564.472962</td>\n",
       "      <td>2066.472962</td>\n",
       "    </tr>\n",
       "  </tbody>\n",
       "</table>\n",
       "</div>"
      ],
      "text/plain": [
       "   Y_test_inv  Y_test_pred_inv          Dif\n",
       "0     17620.0     15216.756643  2403.243357\n",
       "1     16399.0     16709.026354   310.026354\n",
       "2     16498.0     16674.425371   176.425371\n",
       "3      5498.0      5940.263448   442.263448\n",
       "4      9498.0     11564.472962  2066.472962"
      ]
     },
     "execution_count": 75,
     "metadata": {},
     "output_type": "execute_result"
    }
   ],
   "source": [
    "#Los valores predecidos son bastante certeros excepto para el grupo 0 y 4.\n",
    "\n",
    "dfYinv.head()"
   ]
  },
  {
   "cell_type": "code",
   "execution_count": 76,
   "id": "19c82bcb",
   "metadata": {
    "scrolled": false
   },
   "outputs": [
    {
     "data": {
      "image/png": "[encoded data removed]",
      "text/plain": [
       "<Figure size 1000x800 with 1 Axes>"
      ]
     },
     "metadata": {},
     "output_type": "display_data"
    }
   ],
   "source": [
    "#Visualizacion de los datos sin estandarizar\n",
    "\n",
    "plt.figure(figsize=(10,8))\n",
    "sns.scatterplot(data=dfYinv, x=\"Y_test_inv\", y=\"Y_test_pred_inv\",color=\"b\",s=30)\n",
    "#--------------------código para el diseño del gráfico---------------------------------\n",
    "plt.xlabel('Precio real (u.a.)', fontsize='20', zorder=0)\n",
    "plt.ylabel('Precio predicho (u.a.)', fontsize='20', zorder=10)\n",
    "plt.plot([-10000,35000],[-10000,35000],'--r')\n",
    "plt.xticks(size=20)\n",
    "plt.yticks(size=20)\n",
    "plt.show()"
   ]
  },
  {
   "cell_type": "markdown",
   "id": "6a216f26",
   "metadata": {},
   "source": [
    "# LinearRegression de Scikit Learn (k-fold CV)"
   ]
  },
  {
   "cell_type": "code",
   "execution_count": 77,
   "id": "88efc127",
   "metadata": {},
   "outputs": [
    {
     "name": "stdout",
     "output_type": "stream",
     "text": [
      "Valores de R2 en cada división: [0.72145782 0.73559697 0.73555868 0.74552479 0.61828329]\n",
      "R2 (valor medio)  0.7112843074888364\n",
      "R2 (desviación estándar)  0.047128441504797794\n"
     ]
    }
   ],
   "source": [
    "from sklearn.model_selection import cross_val_score\n",
    "#Para R2 tenemos un valor medio de 0.711, lo cual indica un buen nivel de correlacion!\n",
    "\n",
    "cv_linear = cross_val_score(estimator = lr, X=X, y=Y, scoring='r2', cv = 5) #suelen seleccionarse valores de cv=[5,10]\n",
    "print(\"Valores de R2 en cada división:\", cv_linear) #valor de la métrica (scoring) obtenido cada vez \n",
    "print(\"R2 (valor medio) \", cv_linear.mean())\n",
    "print(\"R2 (desviación estándar) \", cv_linear.std())"
   ]
  },
  {
   "cell_type": "code",
   "execution_count": 78,
   "id": "89bcf33f",
   "metadata": {
    "scrolled": true
   },
   "outputs": [
    {
     "name": "stdout",
     "output_type": "stream",
     "text": [
      "Valores de RMSE en cada división: [-0.50295577 -0.46378331 -0.4986704  -0.5424042  -0.61916494]\n",
      "RMSE (valor medio)  -0.5253957251907025\n",
      "RMSE (desviación estándar)  0.05309583153643617\n"
     ]
    }
   ],
   "source": [
    "from sklearn.model_selection import cross_val_score\n",
    "#Para RMSE\n",
    "cv_linear = cross_val_score(estimator = lr, X=X, y=Y, scoring='neg_root_mean_squared_error', cv = 5) #suelen seleccionarse valores de cv=[5,10]\n",
    "print(\"Valores de RMSE en cada división:\", cv_linear) #valor de la métrica (scoring) obtenido cada vez \n",
    "print(\"RMSE (valor medio) \", cv_linear.mean())\n",
    "print(\"RMSE (desviación estándar) \", cv_linear.std())"
   ]
  },
  {
   "cell_type": "code",
   "execution_count": 79,
   "id": "d59c5f2f",
   "metadata": {
    "scrolled": false
   },
   "outputs": [
    {
     "data": {
      "image/png": "[encoded data removed]",
      "text/plain": [
       "<Figure size 640x480 with 1 Axes>"
      ]
     },
     "metadata": {},
     "output_type": "display_data"
    }
   ],
   "source": [
    "#Representacion grafica del RMSE \n",
    "from sklearn.model_selection import cross_val_predict\n",
    "Ypredichos = cross_val_predict(lr, X, Y, cv=5)\n",
    "fig, ax = plt.subplots()\n",
    "ax.scatter(Y, Ypredichos, edgecolors=(0, 0, 0))\n",
    "ax.plot([Y.min(), Y.max()], [Y.min(), Y.max()], \"k--\", lw=4)\n",
    "ax.set_xlabel(\"Valores medidos\")\n",
    "ax.set_ylabel(\"Valores predichos\")\n",
    "plt.show()"
   ]
  },
  {
   "cell_type": "markdown",
   "id": "67fd71e5",
   "metadata": {},
   "source": [
    "# Métodos no supervisados de selección de variables\n",
    "### Matriz de correlacion"
   ]
  },
  {
   "cell_type": "code",
   "execution_count": 101,
   "id": "04d17d01",
   "metadata": {},
   "outputs": [
    {
     "data": {
      "text/html": [
       "<div>\n",
       "<style scoped>\n",
       "    .dataframe tbody tr th:only-of-type {\n",
       "        vertical-align: middle;\n",
       "    }\n",
       "\n",
       "    .dataframe tbody tr th {\n",
       "        vertical-align: top;\n",
       "    }\n",
       "\n",
       "    .dataframe thead th {\n",
       "        text-align: right;\n",
       "    }\n",
       "</style>\n",
       "<table border=\"1\" class=\"dataframe\">\n",
       "  <thead>\n",
       "    <tr style=\"text-align: right;\">\n",
       "      <th></th>\n",
       "      <th>year</th>\n",
       "      <th>mileage</th>\n",
       "      <th>tax</th>\n",
       "      <th>mpg</th>\n",
       "      <th>enginesize</th>\n",
       "      <th>transmission-automatic</th>\n",
       "      <th>transmission-manual</th>\n",
       "      <th>transmission-semi-auto</th>\n",
       "      <th>fueltype-diesel</th>\n",
       "      <th>fueltype-petrol</th>\n",
       "      <th>price</th>\n",
       "    </tr>\n",
       "  </thead>\n",
       "  <tbody>\n",
       "    <tr>\n",
       "      <th>year</th>\n",
       "      <td>1.000000</td>\n",
       "      <td>-0.708062</td>\n",
       "      <td>0.298129</td>\n",
       "      <td>-0.029038</td>\n",
       "      <td>-0.139098</td>\n",
       "      <td>0.035054</td>\n",
       "      <td>-0.036376</td>\n",
       "      <td>0.013520</td>\n",
       "      <td>-0.088320</td>\n",
       "      <td>0.088320</td>\n",
       "      <td>0.635938</td>\n",
       "    </tr>\n",
       "    <tr>\n",
       "      <th>mileage</th>\n",
       "      <td>-0.708062</td>\n",
       "      <td>1.000000</td>\n",
       "      <td>-0.259468</td>\n",
       "      <td>0.127225</td>\n",
       "      <td>0.216147</td>\n",
       "      <td>-0.051171</td>\n",
       "      <td>0.060036</td>\n",
       "      <td>-0.029682</td>\n",
       "      <td>0.258059</td>\n",
       "      <td>-0.258059</td>\n",
       "      <td>-0.530973</td>\n",
       "    </tr>\n",
       "    <tr>\n",
       "      <th>tax</th>\n",
       "      <td>0.298129</td>\n",
       "      <td>-0.259468</td>\n",
       "      <td>1.000000</td>\n",
       "      <td>-0.518949</td>\n",
       "      <td>0.185852</td>\n",
       "      <td>0.158499</td>\n",
       "      <td>-0.184169</td>\n",
       "      <td>0.089371</td>\n",
       "      <td>-0.129454</td>\n",
       "      <td>0.129454</td>\n",
       "      <td>0.408074</td>\n",
       "    </tr>\n",
       "    <tr>\n",
       "      <th>mpg</th>\n",
       "      <td>-0.029038</td>\n",
       "      <td>0.127225</td>\n",
       "      <td>-0.518949</td>\n",
       "      <td>1.000000</td>\n",
       "      <td>-0.279921</td>\n",
       "      <td>-0.251970</td>\n",
       "      <td>0.322916</td>\n",
       "      <td>-0.185295</td>\n",
       "      <td>0.305175</td>\n",
       "      <td>-0.305175</td>\n",
       "      <td>-0.374257</td>\n",
       "    </tr>\n",
       "    <tr>\n",
       "      <th>enginesize</th>\n",
       "      <td>-0.139098</td>\n",
       "      <td>0.216147</td>\n",
       "      <td>0.185852</td>\n",
       "      <td>-0.279921</td>\n",
       "      <td>1.000000</td>\n",
       "      <td>0.158393</td>\n",
       "      <td>-0.219877</td>\n",
       "      <td>0.140695</td>\n",
       "      <td>0.645421</td>\n",
       "      <td>-0.645421</td>\n",
       "      <td>0.409226</td>\n",
       "    </tr>\n",
       "  </tbody>\n",
       "</table>\n",
       "</div>"
      ],
      "text/plain": [
       "                year   mileage       tax       mpg  enginesize  \\\n",
       "year        1.000000 -0.708062  0.298129 -0.029038   -0.139098   \n",
       "mileage    -0.708062  1.000000 -0.259468  0.127225    0.216147   \n",
       "tax         0.298129 -0.259468  1.000000 -0.518949    0.185852   \n",
       "mpg        -0.029038  0.127225 -0.518949  1.000000   -0.279921   \n",
       "enginesize -0.139098  0.216147  0.185852 -0.279921    1.000000   \n",
       "\n",
       "            transmission-automatic  transmission-manual  \\\n",
       "year                      0.035054            -0.036376   \n",
       "mileage                  -0.051171             0.060036   \n",
       "tax                       0.158499            -0.184169   \n",
       "mpg                      -0.251970             0.322916   \n",
       "enginesize                0.158393            -0.219877   \n",
       "\n",
       "            transmission-semi-auto  fueltype-diesel  fueltype-petrol     price  \n",
       "year                      0.013520        -0.088320         0.088320  0.635938  \n",
       "mileage                  -0.029682         0.258059        -0.258059 -0.530973  \n",
       "tax                       0.089371        -0.129454         0.129454  0.408074  \n",
       "mpg                      -0.185295         0.305175        -0.305175 -0.374257  \n",
       "enginesize                0.140695         0.645421        -0.645421  0.409226  "
      ]
     },
     "execution_count": 101,
     "metadata": {},
     "output_type": "execute_result"
    }
   ],
   "source": [
    "df = df[['year', 'mileage', 'tax', 'mpg', 'enginesize',\n",
    "       'transmission-automatic', 'transmission-manual',\n",
    "       'transmission-semi-auto', 'fueltype-diesel', 'fueltype-petrol', 'price']]\n",
    "corr = df.corr(method='pearson') \n",
    "corr.head()"
   ]
  },
  {
   "cell_type": "code",
   "execution_count": 100,
   "id": "435f6d1b",
   "metadata": {
    "scrolled": false
   },
   "outputs": [
    {
     "data": {
      "image/png": "[encoded data removed]",
      "text/plain": [
       "<Figure size 1200x900 with 2 Axes>"
      ]
     },
     "metadata": {},
     "output_type": "display_data"
    }
   ],
   "source": [
    "plt.figure(figsize=(12,9)) #seleccionamos un tamaño de imagen mayor\n",
    "sns.set(font_scale=0.8) #seleccionamos un tamaño de letra legible\n",
    "# preparación del gráfico definiendo un mapa de colores\n",
    "cmap = sns.diverging_palette(230, 15, as_cmap=True)\n",
    "# graficamos la correlación\n",
    "sns.heatmap(corr, annot=True,  cmap=cmap)\n",
    "plt.show()"
   ]
  },
  {
   "cell_type": "code",
   "execution_count": 102,
   "id": "d1c63fee",
   "metadata": {
    "scrolled": false
   },
   "outputs": [
    {
     "name": "stderr",
     "output_type": "stream",
     "text": [
      "C:\\Users\\micha\\AppData\\Local\\Temp\\ipykernel_3476\\3095359843.py:1: DeprecationWarning: `np.bool` is a deprecated alias for the builtin `bool`. To silence this warning, use `bool` by itself. Doing this will not modify any behavior and is safe. If you specifically wanted the numpy scalar type, use `np.bool_` here.\n",
      "Deprecated in NumPy 1.20; for more details and guidance: https://numpy.org/devdocs/release/1.20.0-notes.html#deprecations\n",
      "  triang_sup = corr.where(np.triu(np.ones(corr.shape), k=1).astype(np.bool))\n"
     ]
    },
    {
     "data": {
      "text/html": [
       "<div>\n",
       "<style scoped>\n",
       "    .dataframe tbody tr th:only-of-type {\n",
       "        vertical-align: middle;\n",
       "    }\n",
       "\n",
       "    .dataframe tbody tr th {\n",
       "        vertical-align: top;\n",
       "    }\n",
       "\n",
       "    .dataframe thead th {\n",
       "        text-align: right;\n",
       "    }\n",
       "</style>\n",
       "<table border=\"1\" class=\"dataframe\">\n",
       "  <thead>\n",
       "    <tr style=\"text-align: right;\">\n",
       "      <th></th>\n",
       "      <th>year</th>\n",
       "      <th>mileage</th>\n",
       "      <th>tax</th>\n",
       "      <th>mpg</th>\n",
       "      <th>enginesize</th>\n",
       "      <th>transmission-automatic</th>\n",
       "      <th>transmission-manual</th>\n",
       "      <th>transmission-semi-auto</th>\n",
       "      <th>fueltype-diesel</th>\n",
       "      <th>fueltype-petrol</th>\n",
       "      <th>price</th>\n",
       "    </tr>\n",
       "  </thead>\n",
       "  <tbody>\n",
       "    <tr>\n",
       "      <th>year</th>\n",
       "      <td>NaN</td>\n",
       "      <td>-0.708062</td>\n",
       "      <td>0.298129</td>\n",
       "      <td>-0.029038</td>\n",
       "      <td>-0.139098</td>\n",
       "      <td>0.035054</td>\n",
       "      <td>-0.036376</td>\n",
       "      <td>0.013520</td>\n",
       "      <td>-0.088320</td>\n",
       "      <td>0.088320</td>\n",
       "      <td>0.635938</td>\n",
       "    </tr>\n",
       "    <tr>\n",
       "      <th>mileage</th>\n",
       "      <td>NaN</td>\n",
       "      <td>NaN</td>\n",
       "      <td>-0.259468</td>\n",
       "      <td>0.127225</td>\n",
       "      <td>0.216147</td>\n",
       "      <td>-0.051171</td>\n",
       "      <td>0.060036</td>\n",
       "      <td>-0.029682</td>\n",
       "      <td>0.258059</td>\n",
       "      <td>-0.258059</td>\n",
       "      <td>-0.530973</td>\n",
       "    </tr>\n",
       "    <tr>\n",
       "      <th>tax</th>\n",
       "      <td>NaN</td>\n",
       "      <td>NaN</td>\n",
       "      <td>NaN</td>\n",
       "      <td>-0.518949</td>\n",
       "      <td>0.185852</td>\n",
       "      <td>0.158499</td>\n",
       "      <td>-0.184169</td>\n",
       "      <td>0.089371</td>\n",
       "      <td>-0.129454</td>\n",
       "      <td>0.129454</td>\n",
       "      <td>0.408074</td>\n",
       "    </tr>\n",
       "    <tr>\n",
       "      <th>mpg</th>\n",
       "      <td>NaN</td>\n",
       "      <td>NaN</td>\n",
       "      <td>NaN</td>\n",
       "      <td>NaN</td>\n",
       "      <td>-0.279921</td>\n",
       "      <td>-0.251970</td>\n",
       "      <td>0.322916</td>\n",
       "      <td>-0.185295</td>\n",
       "      <td>0.305175</td>\n",
       "      <td>-0.305175</td>\n",
       "      <td>-0.374257</td>\n",
       "    </tr>\n",
       "    <tr>\n",
       "      <th>enginesize</th>\n",
       "      <td>NaN</td>\n",
       "      <td>NaN</td>\n",
       "      <td>NaN</td>\n",
       "      <td>NaN</td>\n",
       "      <td>NaN</td>\n",
       "      <td>0.158393</td>\n",
       "      <td>-0.219877</td>\n",
       "      <td>0.140695</td>\n",
       "      <td>0.645421</td>\n",
       "      <td>-0.645421</td>\n",
       "      <td>0.409226</td>\n",
       "    </tr>\n",
       "    <tr>\n",
       "      <th>transmission-automatic</th>\n",
       "      <td>NaN</td>\n",
       "      <td>NaN</td>\n",
       "      <td>NaN</td>\n",
       "      <td>NaN</td>\n",
       "      <td>NaN</td>\n",
       "      <td>NaN</td>\n",
       "      <td>-0.718535</td>\n",
       "      <td>-0.072052</td>\n",
       "      <td>0.061305</td>\n",
       "      <td>-0.061305</td>\n",
       "      <td>0.203544</td>\n",
       "    </tr>\n",
       "    <tr>\n",
       "      <th>transmission-manual</th>\n",
       "      <td>NaN</td>\n",
       "      <td>NaN</td>\n",
       "      <td>NaN</td>\n",
       "      <td>NaN</td>\n",
       "      <td>NaN</td>\n",
       "      <td>NaN</td>\n",
       "      <td>NaN</td>\n",
       "      <td>-0.641912</td>\n",
       "      <td>-0.101095</td>\n",
       "      <td>0.101095</td>\n",
       "      <td>-0.254652</td>\n",
       "    </tr>\n",
       "    <tr>\n",
       "      <th>transmission-semi-auto</th>\n",
       "      <td>NaN</td>\n",
       "      <td>NaN</td>\n",
       "      <td>NaN</td>\n",
       "      <td>NaN</td>\n",
       "      <td>NaN</td>\n",
       "      <td>NaN</td>\n",
       "      <td>NaN</td>\n",
       "      <td>NaN</td>\n",
       "      <td>0.077392</td>\n",
       "      <td>-0.077392</td>\n",
       "      <td>0.140787</td>\n",
       "    </tr>\n",
       "    <tr>\n",
       "      <th>fueltype-diesel</th>\n",
       "      <td>NaN</td>\n",
       "      <td>NaN</td>\n",
       "      <td>NaN</td>\n",
       "      <td>NaN</td>\n",
       "      <td>NaN</td>\n",
       "      <td>NaN</td>\n",
       "      <td>NaN</td>\n",
       "      <td>NaN</td>\n",
       "      <td>NaN</td>\n",
       "      <td>-1.000000</td>\n",
       "      <td>0.202702</td>\n",
       "    </tr>\n",
       "    <tr>\n",
       "      <th>fueltype-petrol</th>\n",
       "      <td>NaN</td>\n",
       "      <td>NaN</td>\n",
       "      <td>NaN</td>\n",
       "      <td>NaN</td>\n",
       "      <td>NaN</td>\n",
       "      <td>NaN</td>\n",
       "      <td>NaN</td>\n",
       "      <td>NaN</td>\n",
       "      <td>NaN</td>\n",
       "      <td>NaN</td>\n",
       "      <td>-0.202702</td>\n",
       "    </tr>\n",
       "    <tr>\n",
       "      <th>price</th>\n",
       "      <td>NaN</td>\n",
       "      <td>NaN</td>\n",
       "      <td>NaN</td>\n",
       "      <td>NaN</td>\n",
       "      <td>NaN</td>\n",
       "      <td>NaN</td>\n",
       "      <td>NaN</td>\n",
       "      <td>NaN</td>\n",
       "      <td>NaN</td>\n",
       "      <td>NaN</td>\n",
       "      <td>NaN</td>\n",
       "    </tr>\n",
       "  </tbody>\n",
       "</table>\n",
       "</div>"
      ],
      "text/plain": [
       "                        year   mileage       tax       mpg  enginesize  \\\n",
       "year                     NaN -0.708062  0.298129 -0.029038   -0.139098   \n",
       "mileage                  NaN       NaN -0.259468  0.127225    0.216147   \n",
       "tax                      NaN       NaN       NaN -0.518949    0.185852   \n",
       "mpg                      NaN       NaN       NaN       NaN   -0.279921   \n",
       "enginesize               NaN       NaN       NaN       NaN         NaN   \n",
       "transmission-automatic   NaN       NaN       NaN       NaN         NaN   \n",
       "transmission-manual      NaN       NaN       NaN       NaN         NaN   \n",
       "transmission-semi-auto   NaN       NaN       NaN       NaN         NaN   \n",
       "fueltype-diesel          NaN       NaN       NaN       NaN         NaN   \n",
       "fueltype-petrol          NaN       NaN       NaN       NaN         NaN   \n",
       "price                    NaN       NaN       NaN       NaN         NaN   \n",
       "\n",
       "                        transmission-automatic  transmission-manual  \\\n",
       "year                                  0.035054            -0.036376   \n",
       "mileage                              -0.051171             0.060036   \n",
       "tax                                   0.158499            -0.184169   \n",
       "mpg                                  -0.251970             0.322916   \n",
       "enginesize                            0.158393            -0.219877   \n",
       "transmission-automatic                     NaN            -0.718535   \n",
       "transmission-manual                        NaN                  NaN   \n",
       "transmission-semi-auto                     NaN                  NaN   \n",
       "fueltype-diesel                            NaN                  NaN   \n",
       "fueltype-petrol                            NaN                  NaN   \n",
       "price                                      NaN                  NaN   \n",
       "\n",
       "                        transmission-semi-auto  fueltype-diesel  \\\n",
       "year                                  0.013520        -0.088320   \n",
       "mileage                              -0.029682         0.258059   \n",
       "tax                                   0.089371        -0.129454   \n",
       "mpg                                  -0.185295         0.305175   \n",
       "enginesize                            0.140695         0.645421   \n",
       "transmission-automatic               -0.072052         0.061305   \n",
       "transmission-manual                  -0.641912        -0.101095   \n",
       "transmission-semi-auto                     NaN         0.077392   \n",
       "fueltype-diesel                            NaN              NaN   \n",
       "fueltype-petrol                            NaN              NaN   \n",
       "price                                      NaN              NaN   \n",
       "\n",
       "                        fueltype-petrol     price  \n",
       "year                           0.088320  0.635938  \n",
       "mileage                       -0.258059 -0.530973  \n",
       "tax                            0.129454  0.408074  \n",
       "mpg                           -0.305175 -0.374257  \n",
       "enginesize                    -0.645421  0.409226  \n",
       "transmission-automatic        -0.061305  0.203544  \n",
       "transmission-manual            0.101095 -0.254652  \n",
       "transmission-semi-auto        -0.077392  0.140787  \n",
       "fueltype-diesel               -1.000000  0.202702  \n",
       "fueltype-petrol                     NaN -0.202702  \n",
       "price                               NaN       NaN  "
      ]
     },
     "execution_count": 102,
     "metadata": {},
     "output_type": "execute_result"
    }
   ],
   "source": [
    "triang_sup = corr.where(np.triu(np.ones(corr.shape), k=1).astype(np.bool))\n",
    "triang_sup   "
   ]
  },
  {
   "cell_type": "code",
   "execution_count": 103,
   "id": "cfbe0d1a",
   "metadata": {},
   "outputs": [
    {
     "name": "stdout",
     "output_type": "stream",
     "text": [
      "[]\n"
     ]
    }
   ],
   "source": [
    "# Imponemos el umbral seleccionado sobre la matriz de correlación.\n",
    "# Ninguna variable es eliminada del modelo.\n",
    "variablescorr_drop = [column for column in triang_sup.columns if any(triang_sup[column] > 0.9)]\n",
    "print(variablescorr_drop)"
   ]
  },
  {
   "cell_type": "markdown",
   "id": "ed30ce3a",
   "metadata": {},
   "source": [
    "## Calculo del VIF (Codigo utilizado de la clase)"
   ]
  },
  {
   "cell_type": "code",
   "execution_count": 106,
   "id": "e3db8b68",
   "metadata": {},
   "outputs": [
    {
     "data": {
      "text/plain": [
       "5"
      ]
     },
     "execution_count": 106,
     "metadata": {},
     "output_type": "execute_result"
    }
   ],
   "source": [
    "from statsmodels.stats.outliers_influence import variance_inflation_factor\n",
    "#Elimino las variables dummy ya que son binarias.\n",
    "#Comentario: No se si esto sea lo correcto, lo intente correr con todas pero los valores me dan error entonces preferi no_\n",
    "#tomarlas en cuenta para el calculo del VIF, quedo atento si esto es lo correcto o no profesora!\n",
    "\n",
    "dfvif = df.drop(['price', 'fueltype-diesel', 'fueltype-petrol', 'transmission-manual',\n",
    "       'transmission-semi-auto', 'transmission-automatic'], axis=1) #eliminamos la columna de la variable respuesta Y.\n",
    "dfvif.shape[1] #hacemos la comprobación"
   ]
  },
  {
   "cell_type": "code",
   "execution_count": 107,
   "id": "d4148c5a",
   "metadata": {},
   "outputs": [],
   "source": [
    "def estandariza(data_features):\n",
    "    data_features = (data_features - data_features.mean()) /   data_features.std()\n",
    "    return data_features"
   ]
  },
  {
   "cell_type": "code",
   "execution_count": 108,
   "id": "040c6815",
   "metadata": {},
   "outputs": [
    {
     "data": {
      "text/html": [
       "<div>\n",
       "<style scoped>\n",
       "    .dataframe tbody tr th:only-of-type {\n",
       "        vertical-align: middle;\n",
       "    }\n",
       "\n",
       "    .dataframe tbody tr th {\n",
       "        vertical-align: top;\n",
       "    }\n",
       "\n",
       "    .dataframe thead th {\n",
       "        text-align: right;\n",
       "    }\n",
       "</style>\n",
       "<table border=\"1\" class=\"dataframe\">\n",
       "  <thead>\n",
       "    <tr style=\"text-align: right;\">\n",
       "      <th></th>\n",
       "      <th>year</th>\n",
       "      <th>mileage</th>\n",
       "      <th>tax</th>\n",
       "      <th>mpg</th>\n",
       "      <th>enginesize</th>\n",
       "    </tr>\n",
       "  </thead>\n",
       "  <tbody>\n",
       "    <tr>\n",
       "      <th>0</th>\n",
       "      <td>0.065873</td>\n",
       "      <td>-0.381433</td>\n",
       "      <td>0.590914</td>\n",
       "      <td>-0.017031</td>\n",
       "      <td>-0.810632</td>\n",
       "    </tr>\n",
       "    <tr>\n",
       "      <th>1</th>\n",
       "      <td>0.553630</td>\n",
       "      <td>-0.734108</td>\n",
       "      <td>0.590914</td>\n",
       "      <td>-0.017031</td>\n",
       "      <td>-0.810632</td>\n",
       "    </tr>\n",
       "    <tr>\n",
       "      <th>2</th>\n",
       "      <td>0.065873</td>\n",
       "      <td>-0.560726</td>\n",
       "      <td>0.590914</td>\n",
       "      <td>-0.017031</td>\n",
       "      <td>-0.810632</td>\n",
       "    </tr>\n",
       "    <tr>\n",
       "      <th>3</th>\n",
       "      <td>1.041387</td>\n",
       "      <td>-0.663326</td>\n",
       "      <td>0.510268</td>\n",
       "      <td>-1.785553</td>\n",
       "      <td>0.347829</td>\n",
       "    </tr>\n",
       "    <tr>\n",
       "      <th>4</th>\n",
       "      <td>1.041387</td>\n",
       "      <td>-1.124820</td>\n",
       "      <td>0.510268</td>\n",
       "      <td>-0.931783</td>\n",
       "      <td>-0.810632</td>\n",
       "    </tr>\n",
       "  </tbody>\n",
       "</table>\n",
       "</div>"
      ],
      "text/plain": [
       "       year   mileage       tax       mpg  enginesize\n",
       "0  0.065873 -0.381433  0.590914 -0.017031   -0.810632\n",
       "1  0.553630 -0.734108  0.590914 -0.017031   -0.810632\n",
       "2  0.065873 -0.560726  0.590914 -0.017031   -0.810632\n",
       "3  1.041387 -0.663326  0.510268 -1.785553    0.347829\n",
       "4  1.041387 -1.124820  0.510268 -0.931783   -0.810632"
      ]
     },
     "execution_count": 108,
     "metadata": {},
     "output_type": "execute_result"
    }
   ],
   "source": [
    "dfvif_estan = dfvif.apply(estandariza, axis=0)\n",
    "dfvif_estan.head()"
   ]
  },
  {
   "cell_type": "code",
   "execution_count": 109,
   "id": "a053e590",
   "metadata": {},
   "outputs": [
    {
     "data": {
      "text/html": [
       "<div>\n",
       "<style scoped>\n",
       "    .dataframe tbody tr th:only-of-type {\n",
       "        vertical-align: middle;\n",
       "    }\n",
       "\n",
       "    .dataframe tbody tr th {\n",
       "        vertical-align: top;\n",
       "    }\n",
       "\n",
       "    .dataframe thead th {\n",
       "        text-align: right;\n",
       "    }\n",
       "</style>\n",
       "<table border=\"1\" class=\"dataframe\">\n",
       "  <thead>\n",
       "    <tr style=\"text-align: right;\">\n",
       "      <th></th>\n",
       "      <th>Variable</th>\n",
       "      <th>VIF</th>\n",
       "    </tr>\n",
       "  </thead>\n",
       "  <tbody>\n",
       "    <tr>\n",
       "      <th>0</th>\n",
       "      <td>year</td>\n",
       "      <td>2.153080</td>\n",
       "    </tr>\n",
       "    <tr>\n",
       "      <th>1</th>\n",
       "      <td>mileage</td>\n",
       "      <td>2.160543</td>\n",
       "    </tr>\n",
       "    <tr>\n",
       "      <th>2</th>\n",
       "      <td>tax</td>\n",
       "      <td>1.555557</td>\n",
       "    </tr>\n",
       "    <tr>\n",
       "      <th>3</th>\n",
       "      <td>mpg</td>\n",
       "      <td>1.503278</td>\n",
       "    </tr>\n",
       "    <tr>\n",
       "      <th>4</th>\n",
       "      <td>enginesize</td>\n",
       "      <td>1.183340</td>\n",
       "    </tr>\n",
       "  </tbody>\n",
       "</table>\n",
       "</div>"
      ],
      "text/plain": [
       "     Variable       VIF\n",
       "0        year  2.153080\n",
       "1     mileage  2.160543\n",
       "2         tax  1.555557\n",
       "3         mpg  1.503278\n",
       "4  enginesize  1.183340"
      ]
     },
     "execution_count": 109,
     "metadata": {},
     "output_type": "execute_result"
    }
   ],
   "source": [
    "#En este paso calculamos el coeficiente VIF para las variables predictoras.\n",
    "\n",
    "vif_estan = [[dfvif_estan.columns[i], variance_inflation_factor(dfvif_estan.to_numpy(), i)] for i in range(dfvif.shape[1])]\n",
    "df_vif_estan=pd.DataFrame(vif_estan)  \n",
    "df_vif_estan=df_vif_estan.rename(columns = {0:'Variable',1:'VIF'})\n",
    "df_vif_estan  "
   ]
  },
  {
   "cell_type": "code",
   "execution_count": 110,
   "id": "9ed027a6",
   "metadata": {
    "scrolled": false
   },
   "outputs": [
    {
     "data": {
      "text/html": [
       "<div>\n",
       "<style scoped>\n",
       "    .dataframe tbody tr th:only-of-type {\n",
       "        vertical-align: middle;\n",
       "    }\n",
       "\n",
       "    .dataframe tbody tr th {\n",
       "        vertical-align: top;\n",
       "    }\n",
       "\n",
       "    .dataframe thead th {\n",
       "        text-align: right;\n",
       "    }\n",
       "</style>\n",
       "<table border=\"1\" class=\"dataframe\">\n",
       "  <thead>\n",
       "    <tr style=\"text-align: right;\">\n",
       "      <th></th>\n",
       "      <th>Variable</th>\n",
       "      <th>VIF</th>\n",
       "    </tr>\n",
       "  </thead>\n",
       "  <tbody>\n",
       "    <tr>\n",
       "      <th>4</th>\n",
       "      <td>enginesize</td>\n",
       "      <td>1.183340</td>\n",
       "    </tr>\n",
       "    <tr>\n",
       "      <th>3</th>\n",
       "      <td>mpg</td>\n",
       "      <td>1.503278</td>\n",
       "    </tr>\n",
       "    <tr>\n",
       "      <th>2</th>\n",
       "      <td>tax</td>\n",
       "      <td>1.555557</td>\n",
       "    </tr>\n",
       "    <tr>\n",
       "      <th>0</th>\n",
       "      <td>year</td>\n",
       "      <td>2.153080</td>\n",
       "    </tr>\n",
       "    <tr>\n",
       "      <th>1</th>\n",
       "      <td>mileage</td>\n",
       "      <td>2.160543</td>\n",
       "    </tr>\n",
       "  </tbody>\n",
       "</table>\n",
       "</div>"
      ],
      "text/plain": [
       "     Variable       VIF\n",
       "4  enginesize  1.183340\n",
       "3         mpg  1.503278\n",
       "2         tax  1.555557\n",
       "0        year  2.153080\n",
       "1     mileage  2.160543"
      ]
     },
     "execution_count": 110,
     "metadata": {},
     "output_type": "execute_result"
    }
   ],
   "source": [
    "#No obtenemos ningun valor mayor a 5, por lo que es seguro asumir que no debemos de eliminar ninguna de las variables predictoras.\n",
    "\n",
    "df_vif_estan.sort_values(by=['VIF'],ascending=True)"
   ]
  },
  {
   "cell_type": "markdown",
   "id": "3eab7a7f",
   "metadata": {},
   "source": [
    "# Métodos supervisados de selección de variables predictoras"
   ]
  },
  {
   "cell_type": "markdown",
   "id": "af0ec9b7",
   "metadata": {},
   "source": [
    "## Clase SelectKBest (r_regression)"
   ]
  },
  {
   "cell_type": "code",
   "execution_count": 116,
   "id": "e18dcf91",
   "metadata": {},
   "outputs": [
    {
     "data": {
      "text/plain": [
       "(17941, 5)"
      ]
     },
     "execution_count": 116,
     "metadata": {},
     "output_type": "execute_result"
    }
   ],
   "source": [
    "from sklearn.feature_selection import r_regression, SelectKBest\n",
    "rselect = SelectKBest(r_regression, k=5) # Seleccionamos las mejores 5 variables predictoras\n",
    "rselect.fit_transform(X, Y)\n",
    "rselect.transform(X).shape #comprobamos el número k en la posición del número de columnas"
   ]
  },
  {
   "cell_type": "code",
   "execution_count": 117,
   "id": "8aebb0d5",
   "metadata": {},
   "outputs": [
    {
     "name": "stdout",
     "output_type": "stream",
     "text": [
      "[0 2 4 5 8]\n"
     ]
    }
   ],
   "source": [
    "rfilter = rselect.get_support(indices=True)\n",
    "print(rfilter)"
   ]
  },
  {
   "cell_type": "code",
   "execution_count": 118,
   "id": "e3206847",
   "metadata": {},
   "outputs": [
    {
     "data": {
      "text/plain": [
       "0                   year\n",
       "2                    tax\n",
       "4             enginesize\n",
       "5        fueltype-diesel\n",
       "8    transmission-manual\n",
       "Name: Variable predictora, dtype: object"
      ]
     },
     "execution_count": 118,
     "metadata": {},
     "output_type": "execute_result"
    }
   ],
   "source": [
    "#Utilizando esta funcion de seleccion de variables, se han seleccionado las 5 variables que mas influyen en el modelo.\n",
    "#Tiene sentido que estas variables afecten el precio de los automoviles. Sabemos que el año, el tipo de combustible _\n",
    "#y la transmision afectan de gran manera a la hora de comprar un auto.\n",
    "\n",
    "dflista_columnas=pd.DataFrame(lista_columnas)\n",
    "dflista_columnas=dflista_columnas.rename(columns={0:'Variable predictora'})\n",
    "dfKBest_r=dflista_columnas.iloc[rfilter, 0]\n",
    "dfKBest_r"
   ]
  },
  {
   "cell_type": "markdown",
   "id": "42f08a96",
   "metadata": {},
   "source": [
    "## Selección univariante: Test *F*"
   ]
  },
  {
   "cell_type": "code",
   "execution_count": 119,
   "id": "20e9d73b",
   "metadata": {},
   "outputs": [
    {
     "name": "stdout",
     "output_type": "stream",
     "text": [
      "[0.00000000e+000 0.00000000e+000 0.00000000e+000 0.00000000e+000\n",
      " 0.00000000e+000 4.36217476e-167 1.58203933e-263 4.35434213e-080\n",
      " 1.07410804e-165 1.07410804e-165]\n",
      "[12181.06959266  7043.33500702  3584.12269229  2921.96343097\n",
      "  3608.47048089   775.34010275  1243.96532491   362.75958604\n",
      "   768.6656044    768.6656044 ]\n"
     ]
    }
   ],
   "source": [
    "from sklearn.feature_selection import f_regression\n",
    "f_values, p_values = f_regression(X, Y)\n",
    "#psorted_values = p_values.sort()\n",
    "#fsorted_values = f_values.sort()\n",
    "print(p_values)\n",
    "print(f_values)"
   ]
  },
  {
   "cell_type": "code",
   "execution_count": 120,
   "id": "b61097a8",
   "metadata": {},
   "outputs": [
    {
     "data": {
      "text/plain": [
       "Text(0, 0.5, 'Valor de F')"
      ]
     },
     "execution_count": 120,
     "metadata": {},
     "output_type": "execute_result"
    },
    {
     "data": {
      "image/png": "[encoded data removed]",
      "text/plain": [
       "<Figure size 1200x600 with 1 Axes>"
      ]
     },
     "metadata": {},
     "output_type": "display_data"
    }
   ],
   "source": [
    "fig, ax = plt.subplots(figsize = (12 , 6))\n",
    "ax.xaxis.label.set_size(20)\n",
    "ax.yaxis.label.set_size(20)\n",
    "ax = sns.barplot(x=np.arange(len(f_values)), y=f_values).set(title='Regresión Univariante')\n",
    "plt.xlabel('Variables Predictoras')\n",
    "plt.ylabel('Valor de F')"
   ]
  },
  {
   "cell_type": "markdown",
   "id": "443d1e88",
   "metadata": {},
   "source": [
    "## Clase SelectKBest (f_regression)"
   ]
  },
  {
   "cell_type": "code",
   "execution_count": 121,
   "id": "6976de87",
   "metadata": {},
   "outputs": [
    {
     "data": {
      "text/plain": [
       "(17941, 5)"
      ]
     },
     "execution_count": 121,
     "metadata": {},
     "output_type": "execute_result"
    }
   ],
   "source": [
    "from sklearn.feature_selection import SelectKBest\n",
    "fselect = SelectKBest(f_regression, k=5) # Seleccionamos las mejores 5 variables predictoras\n",
    "fselect.fit_transform(X,Y)\n",
    "fselect.transform(X).shape"
   ]
  },
  {
   "cell_type": "code",
   "execution_count": 122,
   "id": "5c6afc24",
   "metadata": {},
   "outputs": [
    {
     "name": "stdout",
     "output_type": "stream",
     "text": [
      "[0 1 2 3 4]\n"
     ]
    }
   ],
   "source": [
    "ffilter = fselect.get_support(indices=True)\n",
    "print(ffilter)"
   ]
  },
  {
   "cell_type": "code",
   "execution_count": 123,
   "id": "b3226726",
   "metadata": {},
   "outputs": [
    {
     "data": {
      "text/plain": [
       "0          year\n",
       "1       mileage\n",
       "2           tax\n",
       "3           mpg\n",
       "4    enginesize\n",
       "Name: Variable predictora, dtype: object"
      ]
     },
     "execution_count": 123,
     "metadata": {},
     "output_type": "execute_result"
    }
   ],
   "source": [
    "#Este metodo nos selecciona 5 variables predictoras muy difrentes a las obtuvimos en la funcion de r_regression anteriormente \n",
    "dfKBest_f=dflista_columnas.iloc[ffilter, 0]\n",
    "dfKBest_f"
   ]
  },
  {
   "cell_type": "markdown",
   "id": "91c69ec3",
   "metadata": {},
   "source": [
    "## Selección secuencial de variables predictoras (SFS)"
   ]
  },
  {
   "cell_type": "code",
   "execution_count": 127,
   "id": "03a1ca0e",
   "metadata": {},
   "outputs": [
    {
     "data": {
      "text/plain": [
       "(17941, 5)"
      ]
     },
     "execution_count": 127,
     "metadata": {},
     "output_type": "execute_result"
    }
   ],
   "source": [
    "from sklearn.feature_selection import SequentialFeatureSelector\n",
    "lr= LinearRegression() \n",
    "sfs = SequentialFeatureSelector(lr, n_features_to_select=5, scoring= 'r2', direction='backward') #NB: direction{‘forward’, ‘backward’}, default=’forward’\n",
    "sfs.fit(X, Y)\n",
    "sfs.transform(X).shape"
   ]
  },
  {
   "cell_type": "code",
   "execution_count": 128,
   "id": "90071e31",
   "metadata": {},
   "outputs": [
    {
     "name": "stdout",
     "output_type": "stream",
     "text": [
      "[0 1 3 4 9]\n"
     ]
    }
   ],
   "source": [
    "sfsfilter = sfs.get_support(indices=True)\n",
    "print(sfsfilter)"
   ]
  },
  {
   "cell_type": "code",
   "execution_count": 129,
   "id": "b5c94d0b",
   "metadata": {},
   "outputs": [
    {
     "data": {
      "text/plain": [
       "0                      year\n",
       "1                   mileage\n",
       "3                       mpg\n",
       "4                enginesize\n",
       "9    transmission-semi-auto\n",
       "Name: Variable predictora, dtype: object"
      ]
     },
     "execution_count": 129,
     "metadata": {},
     "output_type": "execute_result"
    }
   ],
   "source": [
    "dfsfs=dflista_columnas.iloc[sfsfilter, 0]\n",
    "dfsfs"
   ]
  },
  {
   "cell_type": "markdown",
   "id": "1e9db049",
   "metadata": {},
   "source": [
    "## Eliminación recursiva de variables (RFE)"
   ]
  },
  {
   "cell_type": "code",
   "execution_count": 130,
   "id": "3c5f3d25",
   "metadata": {},
   "outputs": [
    {
     "data": {
      "text/plain": [
       "(17941, 5)"
      ]
     },
     "execution_count": 130,
     "metadata": {},
     "output_type": "execute_result"
    }
   ],
   "source": [
    "from sklearn.feature_selection import RFE\n",
    "lr= LinearRegression()\n",
    "rfe= RFE(lr, n_features_to_select=5, step=1)\n",
    "rfe.fit(X, Y)\n",
    "rfe.transform(X).shape"
   ]
  },
  {
   "cell_type": "code",
   "execution_count": 131,
   "id": "ad6de626",
   "metadata": {},
   "outputs": [
    {
     "name": "stdout",
     "output_type": "stream",
     "text": [
      "[0 1 3 4 9]\n"
     ]
    }
   ],
   "source": [
    "rfefilter = rfe.get_support(indices=True)\n",
    "print(rfefilter)"
   ]
  },
  {
   "cell_type": "code",
   "execution_count": 132,
   "id": "8ad1f58f",
   "metadata": {},
   "outputs": [
    {
     "data": {
      "text/plain": [
       "0                      year\n",
       "1                   mileage\n",
       "3                       mpg\n",
       "4                enginesize\n",
       "9    transmission-semi-auto\n",
       "Name: Variable predictora, dtype: object"
      ]
     },
     "execution_count": 132,
     "metadata": {},
     "output_type": "execute_result"
    }
   ],
   "source": [
    "dfrfe=dflista_columnas.iloc[rfefilter, 0]\n",
    "dfrfe"
   ]
  },
  {
   "cell_type": "code",
   "execution_count": 133,
   "id": "83b02e28",
   "metadata": {},
   "outputs": [
    {
     "data": {
      "text/plain": [
       "(17941, 7)"
      ]
     },
     "execution_count": 133,
     "metadata": {},
     "output_type": "execute_result"
    }
   ],
   "source": [
    "from sklearn.feature_selection import RFECV\n",
    "lr= LinearRegression()\n",
    "rfecv = RFECV(lr, step=1, min_features_to_select=5, cv=10)\n",
    "rfecv.fit(X, Y)\n",
    "rfecv.transform(X).shape"
   ]
  },
  {
   "cell_type": "code",
   "execution_count": 134,
   "id": "1525d714",
   "metadata": {},
   "outputs": [
    {
     "name": "stdout",
     "output_type": "stream",
     "text": [
      "[0 1 3 4 6 8 9]\n"
     ]
    }
   ],
   "source": [
    "rfecvfilter = rfecv.get_support(indices=True)\n",
    "print(rfecvfilter)"
   ]
  },
  {
   "cell_type": "code",
   "execution_count": 135,
   "id": "371f8563",
   "metadata": {},
   "outputs": [
    {
     "data": {
      "text/plain": [
       "0                      year\n",
       "1                   mileage\n",
       "3                       mpg\n",
       "4                enginesize\n",
       "6           fueltype-petrol\n",
       "8       transmission-manual\n",
       "9    transmission-semi-auto\n",
       "Name: Variable predictora, dtype: object"
      ]
     },
     "execution_count": 135,
     "metadata": {},
     "output_type": "execute_result"
    }
   ],
   "source": [
    "dfrfecv=dflista_columnas.iloc[rfecvfilter, 0]\n",
    "dfrfecv"
   ]
  },
  {
   "cell_type": "markdown",
   "id": "81efdf51",
   "metadata": {},
   "source": [
    "# Técnicas de regularización"
   ]
  },
  {
   "cell_type": "markdown",
   "id": "c4e395c8",
   "metadata": {},
   "source": [
    "### Regression Ridge"
   ]
  },
  {
   "cell_type": "code",
   "execution_count": 111,
   "id": "4557a506",
   "metadata": {},
   "outputs": [
    {
     "name": "stdout",
     "output_type": "stream",
     "text": [
      "Los parámetros de la regresión de Ridge son\n",
      " [ 0.49640812 -0.25739481  0.00099191 -0.27067158  0.34562222  0.02452385\n",
      " -0.01999141  0.00163206  0.08608778 -0.08608778]\n",
      "Métricas calculadas sobre la muestra de entrenamiento\n",
      "MAE :  0.36847207642938384\n",
      "MSE :  0.2615864776999929\n",
      "RMSE :  0.5114552548366209\n",
      "R2 :  0.7411538622360156\n",
      "Métricas calculadas sobre la muestra de test\n",
      "MAE :  0.3652848838863504\n",
      "MSE :  0.2438076694950595\n",
      "RMSE :  0.49376884216712125\n",
      "R2 :  0.7499987016474166\n"
     ]
    }
   ],
   "source": [
    "from sklearn.linear_model import Ridge\n",
    "ridge_regression = Ridge(alpha=1, solver = 'auto', random_state = 9) #Si selecionamos alpha = 0 se correspondería con una regresión lineal sin penalización\n",
    "ridge=ridge_regression.fit(X_train, Y_train)\n",
    "print(\"Los parámetros de la regresión de Ridge son\\n\", ridge.coef_) #Comprobamos el peso que se asigna a las distintas variables predictoras\n",
    "Y_train_pred_ridge = ridge_regression.predict(X_train)\n",
    "Y_test_pred_ridge = ridge_regression.predict(X_test)\n",
    "###############Cálculo de las métricas#######################\n",
    "print(\"Métricas calculadas sobre la muestra de entrenamiento\")\n",
    "metricasRidge_train=calculametricas(Y_train, Y_train_pred_ridge)\n",
    "print(\"Métricas calculadas sobre la muestra de test\")\n",
    "metricasRidge_test=calculametricas(Y_test, Y_test_pred_ridge)"
   ]
  },
  {
   "cell_type": "markdown",
   "id": "90a1285f",
   "metadata": {},
   "source": [
    "### Regression Lasso"
   ]
  },
  {
   "cell_type": "code",
   "execution_count": 112,
   "id": "880606e5",
   "metadata": {},
   "outputs": [
    {
     "name": "stdout",
     "output_type": "stream",
     "text": [
      "Los parámetros de la regresión de Lasso son\n",
      " [ 0.49285493 -0.24845066  0.         -0.25501521  0.35253491  0.01745436\n",
      " -0.02269882  0.          0.15052296 -0.        ]\n",
      "Métricas calculadas sobre la muestra de entrenamiento\n",
      "MAE :  0.3679575233521046\n",
      "MSE :  0.26207463481114623\n",
      "RMSE :  0.5119322560760811\n",
      "R2 :  0.7406708189841049\n",
      "Métricas calculadas sobre la muestra de test\n",
      "MAE :  0.36499384068923973\n",
      "MSE :  0.24455732608575234\n",
      "RMSE :  0.4945273764775337\n",
      "R2 :  0.749230000968804\n"
     ]
    }
   ],
   "source": [
    "from sklearn.linear_model import Lasso\n",
    "lasso_regression = Lasso(alpha=0.01, random_state = 8) \n",
    "lasso=lasso_regression.fit(X_train, Y_train)\n",
    "print(\"Los parámetros de la regresión de Lasso son\\n\", lasso.coef_) #Comprobamos el peso que se asigna a las distintas variables predictoras\n",
    "Y_train_pred_lasso = lasso_regression.predict(X_train)\n",
    "Y_test_pred_lasso = lasso_regression.predict(X_test)\n",
    "###############Cálculo de las métricas#######################\n",
    "print(\"Métricas calculadas sobre la muestra de entrenamiento\")\n",
    "metricasLasso_train=calculametricas(Y_train, Y_train_pred_lasso)\n",
    "print(\"Métricas calculadas sobre la muestra de test\")\n",
    "metricasLasso_test=calculametricas(Y_test, Y_test_pred_lasso)"
   ]
  },
  {
   "cell_type": "markdown",
   "id": "c87befb8",
   "metadata": {},
   "source": [
    "# Importancia de las variables predictoras de los modelos"
   ]
  },
  {
   "cell_type": "code",
   "execution_count": 113,
   "id": "aaacae8d",
   "metadata": {},
   "outputs": [
    {
     "data": {
      "text/html": [
       "<div>\n",
       "<style scoped>\n",
       "    .dataframe tbody tr th:only-of-type {\n",
       "        vertical-align: middle;\n",
       "    }\n",
       "\n",
       "    .dataframe tbody tr th {\n",
       "        vertical-align: top;\n",
       "    }\n",
       "\n",
       "    .dataframe thead th {\n",
       "        text-align: right;\n",
       "    }\n",
       "</style>\n",
       "<table border=\"1\" class=\"dataframe\">\n",
       "  <thead>\n",
       "    <tr style=\"text-align: right;\">\n",
       "      <th></th>\n",
       "      <th>Variable</th>\n",
       "      <th>Parámetro_lr</th>\n",
       "      <th>Parámetro_lasso</th>\n",
       "      <th>Parámetro_ridge</th>\n",
       "    </tr>\n",
       "  </thead>\n",
       "  <tbody>\n",
       "    <tr>\n",
       "      <th>0</th>\n",
       "      <td>0</td>\n",
       "      <td>4.964693e-01</td>\n",
       "      <td>0.492855</td>\n",
       "      <td>0.496408</td>\n",
       "    </tr>\n",
       "    <tr>\n",
       "      <th>1</th>\n",
       "      <td>1</td>\n",
       "      <td>-2.573947e-01</td>\n",
       "      <td>-0.248451</td>\n",
       "      <td>-0.257395</td>\n",
       "    </tr>\n",
       "    <tr>\n",
       "      <th>2</th>\n",
       "      <td>2</td>\n",
       "      <td>9.492322e-04</td>\n",
       "      <td>0.000000</td>\n",
       "      <td>0.000992</td>\n",
       "    </tr>\n",
       "    <tr>\n",
       "      <th>3</th>\n",
       "      <td>3</td>\n",
       "      <td>-2.707065e-01</td>\n",
       "      <td>-0.255015</td>\n",
       "      <td>-0.270672</td>\n",
       "    </tr>\n",
       "    <tr>\n",
       "      <th>4</th>\n",
       "      <td>4</td>\n",
       "      <td>3.456590e-01</td>\n",
       "      <td>0.352535</td>\n",
       "      <td>0.345622</td>\n",
       "    </tr>\n",
       "    <tr>\n",
       "      <th>5</th>\n",
       "      <td>5</td>\n",
       "      <td>1.038771e+11</td>\n",
       "      <td>0.017454</td>\n",
       "      <td>0.024524</td>\n",
       "    </tr>\n",
       "    <tr>\n",
       "      <th>6</th>\n",
       "      <td>6</td>\n",
       "      <td>1.351200e+11</td>\n",
       "      <td>-0.022699</td>\n",
       "      <td>-0.019991</td>\n",
       "    </tr>\n",
       "    <tr>\n",
       "      <th>7</th>\n",
       "      <td>7</td>\n",
       "      <td>9.421964e+10</td>\n",
       "      <td>0.000000</td>\n",
       "      <td>0.001632</td>\n",
       "    </tr>\n",
       "    <tr>\n",
       "      <th>8</th>\n",
       "      <td>8</td>\n",
       "      <td>2.985711e+07</td>\n",
       "      <td>0.150523</td>\n",
       "      <td>0.086088</td>\n",
       "    </tr>\n",
       "    <tr>\n",
       "      <th>9</th>\n",
       "      <td>9</td>\n",
       "      <td>2.985711e+07</td>\n",
       "      <td>-0.000000</td>\n",
       "      <td>-0.086088</td>\n",
       "    </tr>\n",
       "  </tbody>\n",
       "</table>\n",
       "</div>"
      ],
      "text/plain": [
       "   Variable  Parámetro_lr  Parámetro_lasso  Parámetro_ridge\n",
       "0         0  4.964693e-01         0.492855         0.496408\n",
       "1         1 -2.573947e-01        -0.248451        -0.257395\n",
       "2         2  9.492322e-04         0.000000         0.000992\n",
       "3         3 -2.707065e-01        -0.255015        -0.270672\n",
       "4         4  3.456590e-01         0.352535         0.345622\n",
       "5         5  1.038771e+11         0.017454         0.024524\n",
       "6         6  1.351200e+11        -0.022699        -0.019991\n",
       "7         7  9.421964e+10         0.000000         0.001632\n",
       "8         8  2.985711e+07         0.150523         0.086088\n",
       "9         9  2.985711e+07        -0.000000        -0.086088"
      ]
     },
     "execution_count": 113,
     "metadata": {},
     "output_type": "execute_result"
    }
   ],
   "source": [
    "dflrcoef=pd.DataFrame(parametroslr)\n",
    "dfridgecoef=pd.DataFrame(ridge.coef_)\n",
    "dflassocoef=pd.DataFrame(lasso.coef_)\n",
    "dflrcoef=dflrcoef.rename(columns = {0:'Parámetro_lr'})\n",
    "dfridgecoef=dfridgecoef.rename(columns = {0:'Parámetro_ridge'})\n",
    "dflassocoef=dflassocoef.rename(columns = {0:'Parámetro_lasso'})\n",
    "dfcoeficientes=dflrcoef.join(dflassocoef).join(dfridgecoef)\n",
    "dfcoeficientes= dfcoeficientes.rename_axis('Variable').reset_index()\n",
    "dfcoeficientes"
   ]
  },
  {
   "cell_type": "code",
   "execution_count": 114,
   "id": "c99653fb",
   "metadata": {},
   "outputs": [
    {
     "data": {
      "image/png": "[encoded data removed]",
      "text/plain": [
       "<Figure size 1200x600 with 1 Axes>"
      ]
     },
     "metadata": {},
     "output_type": "display_data"
    }
   ],
   "source": [
    "#Aqui no he entendido por que la regression de Lasso me da valores de 0 para todas las variables?\n",
    "#Si pudiera explicarme esta parte, se lo agradeceria profe!\n",
    "\n",
    "fig, ax = plt.subplots(figsize = (12 , 6))\n",
    "sns.set(font_scale=1.5)\n",
    "sns.scatterplot(data=dfcoeficientes, x='Variable', y='Parámetro_lr',legend='full',palette='bright',s=200)\n",
    "sns.scatterplot(data=dfcoeficientes, x='Variable', y='Parámetro_lasso',legend='full',palette='bright',s=200)\n",
    "sns.scatterplot(data=dfcoeficientes, x='Variable', y='Parámetro_ridge',legend='full',palette='bright',s=200)\n",
    "ax.set_title( \"Comparación de los valores de los parámetros\" , size = 20)\n",
    "ax.set_xlabel('Variable',size=20)\n",
    "ax.set_ylabel('Valor de los parámetros',size=20)\n",
    "ax.legend(loc='upper right', labels=['RL', 'Ridge','Lasso'])\n",
    "ax.set_xticks(range(len(lista_columnas)))\n",
    "ax.set_xticklabels(lista_columnas)\n",
    "plt.show()"
   ]
  },
  {
   "cell_type": "markdown",
   "id": "c82a8e66",
   "metadata": {},
   "source": [
    "### Estudio comparativo de las metricas"
   ]
  },
  {
   "cell_type": "code",
   "execution_count": 115,
   "id": "150a6892",
   "metadata": {},
   "outputs": [
    {
     "data": {
      "text/html": [
       "<div>\n",
       "<style scoped>\n",
       "    .dataframe tbody tr th:only-of-type {\n",
       "        vertical-align: middle;\n",
       "    }\n",
       "\n",
       "    .dataframe tbody tr th {\n",
       "        vertical-align: top;\n",
       "    }\n",
       "\n",
       "    .dataframe thead th {\n",
       "        text-align: right;\n",
       "    }\n",
       "</style>\n",
       "<table border=\"1\" class=\"dataframe\">\n",
       "  <thead>\n",
       "    <tr style=\"text-align: right;\">\n",
       "      <th></th>\n",
       "      <th>LR</th>\n",
       "      <th>Ridge</th>\n",
       "      <th>Lasso</th>\n",
       "    </tr>\n",
       "  </thead>\n",
       "  <tbody>\n",
       "    <tr>\n",
       "      <th>MAE</th>\n",
       "      <td>0.365272</td>\n",
       "      <td>0.365285</td>\n",
       "      <td>0.364994</td>\n",
       "    </tr>\n",
       "    <tr>\n",
       "      <th>MSE</th>\n",
       "      <td>0.243808</td>\n",
       "      <td>0.243808</td>\n",
       "      <td>0.244557</td>\n",
       "    </tr>\n",
       "    <tr>\n",
       "      <th>RMSE</th>\n",
       "      <td>0.493769</td>\n",
       "      <td>0.493769</td>\n",
       "      <td>0.494527</td>\n",
       "    </tr>\n",
       "    <tr>\n",
       "      <th>R2</th>\n",
       "      <td>0.749998</td>\n",
       "      <td>0.749999</td>\n",
       "      <td>0.749230</td>\n",
       "    </tr>\n",
       "  </tbody>\n",
       "</table>\n",
       "</div>"
      ],
      "text/plain": [
       "            LR     Ridge     Lasso\n",
       "MAE   0.365272  0.365285  0.364994\n",
       "MSE   0.243808  0.243808  0.244557\n",
       "RMSE  0.493769  0.493769  0.494527\n",
       "R2    0.749998  0.749999  0.749230"
      ]
     },
     "execution_count": 115,
     "metadata": {},
     "output_type": "execute_result"
    }
   ],
   "source": [
    "dfmetricasLR_test=pd.DataFrame(metricasLR_test)\n",
    "dfmetricasRidge_test=pd.DataFrame(metricasRidge_test)\n",
    "dfmetricasLasso_test=pd.DataFrame(metricasLasso_test)\n",
    "dfmetricasLRRL_test=pd.concat([dfmetricasLR_test, dfmetricasRidge_test, dfmetricasLasso_test],axis=1,ignore_index=True)\n",
    "dfmetricasLRRL_test = dfmetricasLRRL_test.rename(columns = {0:'LR',1:'Ridge',2:'Lasso'},index={0: 'MAE',1:'MSE',2:'RMSE',3:'R2'})\n",
    "dfmetricasLRRL_test"
   ]
  },
  {
   "cell_type": "markdown",
   "id": "b4c0d295",
   "metadata": {},
   "source": [
    "# Ejercicios"
   ]
  },
  {
   "cell_type": "markdown",
   "id": "e10c2589",
   "metadata": {},
   "source": [
    "#### 1. Escribir el modelo resultante de la regresión lineal sin regularización y los modelos obtenidos con las regresiones con regularización de Ridge y Lasso considerando todas las variables predictoras del problema. Comparar los modelos e interpretarlos a partir de las métricas y las técnicas validación gráfica.\n",
    "\n",
    "R/ Basado en los resultados de la tabla de abajo, podemos observar que en los 3 modelos obtuvimos indicadores muy similares.\n",
    "Yo opino que no hay mucha diferencia y podriamos utilizar cualquiera de los 3 dado que se han ajustado bastante bien.\n"
   ]
  },
  {
   "cell_type": "code",
   "execution_count": 137,
   "id": "df087e95",
   "metadata": {},
   "outputs": [
    {
     "data": {
      "text/html": [
       "<div>\n",
       "<style scoped>\n",
       "    .dataframe tbody tr th:only-of-type {\n",
       "        vertical-align: middle;\n",
       "    }\n",
       "\n",
       "    .dataframe tbody tr th {\n",
       "        vertical-align: top;\n",
       "    }\n",
       "\n",
       "    .dataframe thead th {\n",
       "        text-align: right;\n",
       "    }\n",
       "</style>\n",
       "<table border=\"1\" class=\"dataframe\">\n",
       "  <thead>\n",
       "    <tr style=\"text-align: right;\">\n",
       "      <th></th>\n",
       "      <th>LR</th>\n",
       "      <th>Ridge</th>\n",
       "      <th>Lasso</th>\n",
       "    </tr>\n",
       "  </thead>\n",
       "  <tbody>\n",
       "    <tr>\n",
       "      <th>MAE</th>\n",
       "      <td>0.365272</td>\n",
       "      <td>0.365285</td>\n",
       "      <td>0.364994</td>\n",
       "    </tr>\n",
       "    <tr>\n",
       "      <th>MSE</th>\n",
       "      <td>0.243808</td>\n",
       "      <td>0.243808</td>\n",
       "      <td>0.244557</td>\n",
       "    </tr>\n",
       "    <tr>\n",
       "      <th>RMSE</th>\n",
       "      <td>0.493769</td>\n",
       "      <td>0.493769</td>\n",
       "      <td>0.494527</td>\n",
       "    </tr>\n",
       "    <tr>\n",
       "      <th>R2</th>\n",
       "      <td>0.749998</td>\n",
       "      <td>0.749999</td>\n",
       "      <td>0.749230</td>\n",
       "    </tr>\n",
       "  </tbody>\n",
       "</table>\n",
       "</div>"
      ],
      "text/plain": [
       "            LR     Ridge     Lasso\n",
       "MAE   0.365272  0.365285  0.364994\n",
       "MSE   0.243808  0.243808  0.244557\n",
       "RMSE  0.493769  0.493769  0.494527\n",
       "R2    0.749998  0.749999  0.749230"
      ]
     },
     "execution_count": 137,
     "metadata": {},
     "output_type": "execute_result"
    }
   ],
   "source": [
    "dfmetricasLRRL_test"
   ]
  },
  {
   "cell_type": "markdown",
   "id": "7de74780",
   "metadata": {},
   "source": [
    "#### 2. Ensayar otros valores de `k` o `n_features_to_select` en los siguientes métodos supervisados de selección de variables:\n",
    "\n",
    "\n",
    "#### *   SelectKBest (r_regresion y f_regression).\n",
    "#### *   Selección secuencial, SFS (backward y forward).\n",
    "#### *   Eliminación recursiva, RFE y RFECV.\n",
    "\n",
    "R/ Estos han sido calculados anteriormente en este workbook."
   ]
  },
  {
   "cell_type": "markdown",
   "id": "f3c88ba8",
   "metadata": {},
   "source": [
    "#### 3.  Construir una tabla comparativa con los resultados obtenidos mediante las distintas técnicas de selección de variables no supervisadas y supervisadas. Interpretar los resultados.\n",
    "\n",
    "R/ Para los metodos no supervisados, la matriz de correlacion me indica que no debo de eliminar ninguna de las variables predictoras ya que todas poseen cierto valor significativo. Es importante recalcar que el umbral para la eliminacion de las variables era 0.9. Talves al tener tantas variables hubiera sido mejor bajar un poco el umbral aunque no lo veo necesario.\n",
    "\n",
    "Al igual que con la matriz de correlacion, los valores en el calculo del VIF estan por debajo del 0.5 por lo que utilizando este indicador no se eliminaria ninguna variable predictora (Ver la tabla de abajo). Sin embargo, para este calculo no inclui las dummy variables porque me daba error el calculo, honesamente no super como incluirlas y por esto no creo que me fiaria de utilizar esta funcion."
   ]
  },
  {
   "cell_type": "code",
   "execution_count": 157,
   "id": "068e0168",
   "metadata": {},
   "outputs": [
    {
     "data": {
      "text/html": [
       "<div>\n",
       "<style scoped>\n",
       "    .dataframe tbody tr th:only-of-type {\n",
       "        vertical-align: middle;\n",
       "    }\n",
       "\n",
       "    .dataframe tbody tr th {\n",
       "        vertical-align: top;\n",
       "    }\n",
       "\n",
       "    .dataframe thead th {\n",
       "        text-align: right;\n",
       "    }\n",
       "</style>\n",
       "<table border=\"1\" class=\"dataframe\">\n",
       "  <thead>\n",
       "    <tr style=\"text-align: right;\">\n",
       "      <th></th>\n",
       "      <th>Variable</th>\n",
       "      <th>VIF</th>\n",
       "      <th>Variable predictora-KBest_r</th>\n",
       "      <th>Variable predictora-KBest_f</th>\n",
       "      <th>Variable predictora-SFS</th>\n",
       "    </tr>\n",
       "  </thead>\n",
       "  <tbody>\n",
       "    <tr>\n",
       "      <th>0</th>\n",
       "      <td>year</td>\n",
       "      <td>2.153080</td>\n",
       "      <td>year</td>\n",
       "      <td>year</td>\n",
       "      <td>year</td>\n",
       "    </tr>\n",
       "    <tr>\n",
       "      <th>1</th>\n",
       "      <td>mileage</td>\n",
       "      <td>2.160543</td>\n",
       "      <td>NaN</td>\n",
       "      <td>mileage</td>\n",
       "      <td>mileage</td>\n",
       "    </tr>\n",
       "    <tr>\n",
       "      <th>2</th>\n",
       "      <td>tax</td>\n",
       "      <td>1.555557</td>\n",
       "      <td>tax</td>\n",
       "      <td>tax</td>\n",
       "      <td>NaN</td>\n",
       "    </tr>\n",
       "    <tr>\n",
       "      <th>3</th>\n",
       "      <td>mpg</td>\n",
       "      <td>1.503278</td>\n",
       "      <td>NaN</td>\n",
       "      <td>mpg</td>\n",
       "      <td>mpg</td>\n",
       "    </tr>\n",
       "    <tr>\n",
       "      <th>4</th>\n",
       "      <td>enginesize</td>\n",
       "      <td>1.183340</td>\n",
       "      <td>enginesize</td>\n",
       "      <td>enginesize</td>\n",
       "      <td>enginesize</td>\n",
       "    </tr>\n",
       "    <tr>\n",
       "      <th>5</th>\n",
       "      <td>NaN</td>\n",
       "      <td>NaN</td>\n",
       "      <td>fueltype-diesel</td>\n",
       "      <td>NaN</td>\n",
       "      <td>NaN</td>\n",
       "    </tr>\n",
       "    <tr>\n",
       "      <th>8</th>\n",
       "      <td>NaN</td>\n",
       "      <td>NaN</td>\n",
       "      <td>transmission-manual</td>\n",
       "      <td>NaN</td>\n",
       "      <td>NaN</td>\n",
       "    </tr>\n",
       "    <tr>\n",
       "      <th>9</th>\n",
       "      <td>NaN</td>\n",
       "      <td>NaN</td>\n",
       "      <td>NaN</td>\n",
       "      <td>NaN</td>\n",
       "      <td>transmission-semi-auto</td>\n",
       "    </tr>\n",
       "  </tbody>\n",
       "</table>\n",
       "</div>"
      ],
      "text/plain": [
       "     Variable       VIF Variable predictora-KBest_r  \\\n",
       "0        year  2.153080                        year   \n",
       "1     mileage  2.160543                         NaN   \n",
       "2         tax  1.555557                         tax   \n",
       "3         mpg  1.503278                         NaN   \n",
       "4  enginesize  1.183340                  enginesize   \n",
       "5         NaN       NaN             fueltype-diesel   \n",
       "8         NaN       NaN         transmission-manual   \n",
       "9         NaN       NaN                         NaN   \n",
       "\n",
       "  Variable predictora-KBest_f Variable predictora-SFS  \n",
       "0                        year                    year  \n",
       "1                     mileage                 mileage  \n",
       "2                         tax                     NaN  \n",
       "3                         mpg                     mpg  \n",
       "4                  enginesize              enginesize  \n",
       "5                         NaN                     NaN  \n",
       "8                         NaN                     NaN  \n",
       "9                         NaN  transmission-semi-auto  "
      ]
     },
     "execution_count": 157,
     "metadata": {},
     "output_type": "execute_result"
    }
   ],
   "source": [
    "#Tabla comparativa de metodos supervisados\n",
    "\n",
    "df_vif_estan.sort_values(by=['VIF'],ascending=True)\n",
    "dfKBest_r = pd.DataFrame(dfKBest_r)\n",
    "dfKBest_r.rename(columns={'Variable predictora':'Variable predictora-KBest_r'}, inplace=True)\n",
    "dfKBest_f = pd.DataFrame(dfKBest_f)\n",
    "dfKBest_f.rename(columns={'Variable predictora':'Variable predictora-KBest_f'}, inplace=True)\n",
    "dfsfs = pd.DataFrame(dfsfs)\n",
    "dfsfs.rename(columns={'Variable predictora':'Variable predictora-SFS'}, inplace=True)\n",
    "respuesta3 = pd.concat([df_vif_estan, dfKBest_r, dfKBest_f, dfsfs], axis=1)\n",
    "respuesta3"
   ]
  },
  {
   "cell_type": "markdown",
   "id": "5261c8b9",
   "metadata": {},
   "source": [
    "En la tabla tambien podemos apreciar cuales variables eleccionaron cada metodo supervisado de seleccion de variables. \n",
    "Basado en esto, elegiria las que mas se repiten entre los 3 modelos, siendo estos:\n",
    "-Year\n",
    "-Mileage\n",
    "-mpg\n",
    "-engineSize\n",
    "\n",
    "Y me quedaria una variable tentativa. Me parece curioso que estos modelos no consideren las dummy variables como significativas, de hecho los 3 modelos supervisados ignoraron la variable de \"fueltype-petrol\". (Talves porque habia mucha mas cantidad de carros de este tipo en comparacion a los de Diesel?)\n"
   ]
  },
  {
   "cell_type": "markdown",
   "id": "d731b6e2",
   "metadata": {},
   "source": [
    "#### 4. Evaluar los métodos de regularización para diferentes valores de $\\lambda$ y construir una tabla comparativa donde se evalúen la importancia de las variables predictoras y las métricas. Seleccionar el modelo óptimo (LR, Ridge o Lasso) y razonar la elección.\n"
   ]
  },
  {
   "cell_type": "markdown",
   "id": "4d814459",
   "metadata": {},
   "source": [
    "Al comparar los resultados entre los modelos Lasso, Ridge y LR, he obtneido resultados muy similares entre los 3.\n",
    "Honestamente, no se cual elegiria y no se si tuviera mucho impacto ya que los 3 modelos dan resultados muy similares."
   ]
  },
  {
   "cell_type": "markdown",
   "id": "827bd242",
   "metadata": {},
   "source": [
    "#### 5. Construir los modelos de regresión (sin y con regularización) a partir del dataframe con el número de variables predictoras óptimas. Escribir el modelo resultante de la regresión lineal sin regularización y los modelos obtenidos con las regresiones con regularización de Ridge y Lasso. Comparar los modelos e interpretarlos a partir de las métricas y las técnicas validación gráfica."
   ]
  },
  {
   "cell_type": "code",
   "execution_count": 194,
   "id": "46b8a1a3",
   "metadata": {},
   "outputs": [
    {
     "data": {
      "text/html": [
       "<div>\n",
       "<style scoped>\n",
       "    .dataframe tbody tr th:only-of-type {\n",
       "        vertical-align: middle;\n",
       "    }\n",
       "\n",
       "    .dataframe tbody tr th {\n",
       "        vertical-align: top;\n",
       "    }\n",
       "\n",
       "    .dataframe thead th {\n",
       "        text-align: right;\n",
       "    }\n",
       "</style>\n",
       "<table border=\"1\" class=\"dataframe\">\n",
       "  <thead>\n",
       "    <tr style=\"text-align: right;\">\n",
       "      <th></th>\n",
       "      <th>year</th>\n",
       "      <th>mileage</th>\n",
       "      <th>mpg</th>\n",
       "      <th>enginesize</th>\n",
       "      <th>fueltype-diesel</th>\n",
       "      <th>price</th>\n",
       "    </tr>\n",
       "  </thead>\n",
       "  <tbody>\n",
       "    <tr>\n",
       "      <th>0</th>\n",
       "      <td>0.065875</td>\n",
       "      <td>-0.381444</td>\n",
       "      <td>-0.017031</td>\n",
       "      <td>-0.810654</td>\n",
       "      <td>-0.687830</td>\n",
       "      <td>-0.056510</td>\n",
       "    </tr>\n",
       "    <tr>\n",
       "      <th>1</th>\n",
       "      <td>0.553645</td>\n",
       "      <td>-0.734128</td>\n",
       "      <td>-0.017031</td>\n",
       "      <td>-0.810654</td>\n",
       "      <td>-0.687830</td>\n",
       "      <td>0.366844</td>\n",
       "    </tr>\n",
       "    <tr>\n",
       "      <th>2</th>\n",
       "      <td>0.065875</td>\n",
       "      <td>-0.560742</td>\n",
       "      <td>-0.017031</td>\n",
       "      <td>-0.810654</td>\n",
       "      <td>-0.687830</td>\n",
       "      <td>0.155167</td>\n",
       "    </tr>\n",
       "    <tr>\n",
       "      <th>3</th>\n",
       "      <td>1.041416</td>\n",
       "      <td>-0.663345</td>\n",
       "      <td>-1.785602</td>\n",
       "      <td>0.347838</td>\n",
       "      <td>-0.687830</td>\n",
       "      <td>1.107712</td>\n",
       "    </tr>\n",
       "    <tr>\n",
       "      <th>4</th>\n",
       "      <td>1.041416</td>\n",
       "      <td>-1.124852</td>\n",
       "      <td>-0.931809</td>\n",
       "      <td>-0.810654</td>\n",
       "      <td>-0.687830</td>\n",
       "      <td>0.896035</td>\n",
       "    </tr>\n",
       "    <tr>\n",
       "      <th>...</th>\n",
       "      <td>...</td>\n",
       "      <td>...</td>\n",
       "      <td>...</td>\n",
       "      <td>...</td>\n",
       "      <td>...</td>\n",
       "      <td>...</td>\n",
       "    </tr>\n",
       "    <tr>\n",
       "      <th>17961</th>\n",
       "      <td>0.065875</td>\n",
       "      <td>-0.342582</td>\n",
       "      <td>-1.094437</td>\n",
       "      <td>0.116140</td>\n",
       "      <td>-0.687830</td>\n",
       "      <td>-0.691751</td>\n",
       "    </tr>\n",
       "    <tr>\n",
       "      <th>17962</th>\n",
       "      <td>-1.397435</td>\n",
       "      <td>0.891120</td>\n",
       "      <td>-0.017031</td>\n",
       "      <td>-0.810654</td>\n",
       "      <td>-0.687830</td>\n",
       "      <td>-1.009266</td>\n",
       "    </tr>\n",
       "    <tr>\n",
       "      <th>17963</th>\n",
       "      <td>-0.909665</td>\n",
       "      <td>-0.840689</td>\n",
       "      <td>0.958732</td>\n",
       "      <td>0.579537</td>\n",
       "      <td>1.453849</td>\n",
       "      <td>-0.480075</td>\n",
       "    </tr>\n",
       "    <tr>\n",
       "      <th>17964</th>\n",
       "      <td>0.553645</td>\n",
       "      <td>-0.943652</td>\n",
       "      <td>-0.017031</td>\n",
       "      <td>-0.347257</td>\n",
       "      <td>-0.687830</td>\n",
       "      <td>-0.839925</td>\n",
       "    </tr>\n",
       "    <tr>\n",
       "      <th>17965</th>\n",
       "      <td>-0.909665</td>\n",
       "      <td>-0.943652</td>\n",
       "      <td>-0.017031</td>\n",
       "      <td>-0.810654</td>\n",
       "      <td>-0.687830</td>\n",
       "      <td>-0.839925</td>\n",
       "    </tr>\n",
       "  </tbody>\n",
       "</table>\n",
       "<p>17941 rows × 6 columns</p>\n",
       "</div>"
      ],
      "text/plain": [
       "           year   mileage       mpg  enginesize  fueltype-diesel     price\n",
       "0      0.065875 -0.381444 -0.017031   -0.810654        -0.687830 -0.056510\n",
       "1      0.553645 -0.734128 -0.017031   -0.810654        -0.687830  0.366844\n",
       "2      0.065875 -0.560742 -0.017031   -0.810654        -0.687830  0.155167\n",
       "3      1.041416 -0.663345 -1.785602    0.347838        -0.687830  1.107712\n",
       "4      1.041416 -1.124852 -0.931809   -0.810654        -0.687830  0.896035\n",
       "...         ...       ...       ...         ...              ...       ...\n",
       "17961  0.065875 -0.342582 -1.094437    0.116140        -0.687830 -0.691751\n",
       "17962 -1.397435  0.891120 -0.017031   -0.810654        -0.687830 -1.009266\n",
       "17963 -0.909665 -0.840689  0.958732    0.579537         1.453849 -0.480075\n",
       "17964  0.553645 -0.943652 -0.017031   -0.347257        -0.687830 -0.839925\n",
       "17965 -0.909665 -0.943652 -0.017031   -0.810654        -0.687830 -0.839925\n",
       "\n",
       "[17941 rows x 6 columns]"
      ]
     },
     "execution_count": 194,
     "metadata": {},
     "output_type": "execute_result"
    }
   ],
   "source": [
    "#Creo el dataset con las 5 variables que elegi basandome en el metodo supervisado de seleccion de variables\n",
    "dfestand_answer = dfestand[['year', 'mileage', 'mpg', 'enginesize',\n",
    "       'fueltype-diesel', 'price']].copy()\n",
    "dfestand_answer"
   ]
  },
  {
   "cell_type": "code",
   "execution_count": 198,
   "id": "0abf9ea5",
   "metadata": {},
   "outputs": [],
   "source": [
    "X_train,X_test,Y_train,Y_test = train_test_split(X_answer,Y_answer,random_state=0,test_size=0.3)\n",
    "X_answer = dfestand_answer.drop(['price'],axis=1).values\n",
    "Y_answer = dfestand_answer['price'].values"
   ]
  },
  {
   "cell_type": "code",
   "execution_count": 201,
   "id": "b24e31cd",
   "metadata": {},
   "outputs": [
    {
     "data": {
      "text/plain": [
       "[(5383, 5), (5383,)]"
      ]
     },
     "execution_count": 201,
     "metadata": {},
     "output_type": "execute_result"
    }
   ],
   "source": [
    "[X_train.shape, Y_train.shape] #comprobamos las dimensiones de la muestra de train (5 variables)"
   ]
  },
  {
   "cell_type": "code",
   "execution_count": 200,
   "id": "c0b36402",
   "metadata": {},
   "outputs": [
    {
     "data": {
      "text/plain": [
       "[(5383, 5), (5383,)]"
      ]
     },
     "execution_count": 200,
     "metadata": {},
     "output_type": "execute_result"
    }
   ],
   "source": [
    "[X_test.shape, Y_test.shape] #comprobamos las dimensiones de la muestra de test (5 variables)"
   ]
  },
  {
   "cell_type": "markdown",
   "id": "65e68952",
   "metadata": {},
   "source": [
    "#### LR"
   ]
  },
  {
   "cell_type": "code",
   "execution_count": 204,
   "id": "62447284",
   "metadata": {},
   "outputs": [],
   "source": [
    "#Obtención del modelo de regresión lineal para la muestra de entrenamiento\n",
    "lr= LinearRegression() \n",
    "lr.fit(X_train, Y_train) #construcción del modelo a partir de los datos de entrenamiento.\n",
    "#Cálculo de los valores predichos a partir de la muestra de entrenamiento\n",
    "Y_train_pred= lr.predict(X_train)\n",
    "#Cálculo de los valores predichos a partir de la muestra de test\n",
    "Y_test_pred= lr.predict(X_test)"
   ]
  },
  {
   "cell_type": "code",
   "execution_count": 205,
   "id": "ae07c7b3",
   "metadata": {},
   "outputs": [
    {
     "data": {
      "text/plain": [
       "array([ 0.49641938, -0.26016666, -0.28828021,  0.34284587,  0.1838061 ])"
      ]
     },
     "execution_count": 205,
     "metadata": {},
     "output_type": "execute_result"
    }
   ],
   "source": [
    "parametroslr=lr.coef_\n",
    "parametroslr"
   ]
  },
  {
   "cell_type": "code",
   "execution_count": 207,
   "id": "5ef229e2",
   "metadata": {},
   "outputs": [
    {
     "name": "stdout",
     "output_type": "stream",
     "text": [
      "[[14604.49507369]\n",
      " [16764.28097004]\n",
      " [16520.47422834]\n",
      " ...\n",
      " [ 9322.90073404]\n",
      " [ 9334.30716237]\n",
      " [11343.71730813]]\n"
     ]
    }
   ],
   "source": [
    "Y_test_pred2D= Y_test_pred.reshape(-1,1) # debemos hacer esta transformación de un array 1D a uno 2D para poder ejecutar inverse_tranform\n",
    "Y_test_pred_inv = scalerY.inverse_transform(Y_test_pred2D)\n",
    "print(Y_test_pred_inv)"
   ]
  },
  {
   "cell_type": "code",
   "execution_count": 209,
   "id": "f600b532",
   "metadata": {},
   "outputs": [
    {
     "name": "stdout",
     "output_type": "stream",
     "text": [
      "Métricas calculadas sobre la muestra de entrenamiento:\n",
      "MAE :  0.36962565111798973\n",
      "MSE :  0.26307306972657474\n",
      "RMSE :  0.5129064921860268\n",
      "R2 :  0.7396828435201601\n"
     ]
    }
   ],
   "source": [
    "print('Métricas calculadas sobre la muestra de entrenamiento:')\n",
    "metricasLR_train=calculametricas(Y_train, Y_train_pred)"
   ]
  },
  {
   "cell_type": "code",
   "execution_count": 210,
   "id": "ca96bad1",
   "metadata": {},
   "outputs": [
    {
     "name": "stdout",
     "output_type": "stream",
     "text": [
      "Métricas calculadas sobre la muestra de test:\n",
      "MAE :  0.36660095859990677\n",
      "MSE :  0.24585237092450157\n",
      "RMSE :  0.49583502389857614\n",
      "R2 :  0.7479020571359352\n"
     ]
    }
   ],
   "source": [
    "print('Métricas calculadas sobre la muestra de test:')\n",
    "metricasLR_test=calculametricas(Y_test, Y_test_pred)"
   ]
  },
  {
   "cell_type": "code",
   "execution_count": 211,
   "id": "fdd82a87",
   "metadata": {},
   "outputs": [
    {
     "data": {
      "text/html": [
       "<div>\n",
       "<style scoped>\n",
       "    .dataframe tbody tr th:only-of-type {\n",
       "        vertical-align: middle;\n",
       "    }\n",
       "\n",
       "    .dataframe tbody tr th {\n",
       "        vertical-align: top;\n",
       "    }\n",
       "\n",
       "    .dataframe thead th {\n",
       "        text-align: right;\n",
       "    }\n",
       "</style>\n",
       "<table border=\"1\" class=\"dataframe\">\n",
       "  <thead>\n",
       "    <tr style=\"text-align: right;\">\n",
       "      <th></th>\n",
       "      <th>train</th>\n",
       "      <th>test</th>\n",
       "    </tr>\n",
       "  </thead>\n",
       "  <tbody>\n",
       "    <tr>\n",
       "      <th>MAE</th>\n",
       "      <td>0.369626</td>\n",
       "      <td>0.366601</td>\n",
       "    </tr>\n",
       "    <tr>\n",
       "      <th>MSE</th>\n",
       "      <td>0.263073</td>\n",
       "      <td>0.245852</td>\n",
       "    </tr>\n",
       "    <tr>\n",
       "      <th>RMSE</th>\n",
       "      <td>0.512906</td>\n",
       "      <td>0.495835</td>\n",
       "    </tr>\n",
       "    <tr>\n",
       "      <th>R2</th>\n",
       "      <td>0.739683</td>\n",
       "      <td>0.747902</td>\n",
       "    </tr>\n",
       "  </tbody>\n",
       "</table>\n",
       "</div>"
      ],
      "text/plain": [
       "         train      test\n",
       "MAE   0.369626  0.366601\n",
       "MSE   0.263073  0.245852\n",
       "RMSE  0.512906  0.495835\n",
       "R2    0.739683  0.747902"
      ]
     },
     "execution_count": 211,
     "metadata": {},
     "output_type": "execute_result"
    }
   ],
   "source": [
    "#Utilizando solo 5 columnas, los indicadores varian un poco en relacion al modelo que utiliza todas las variables.\n",
    "dfmetricasLR_train=pd.DataFrame(metricasLR_train).rename(columns = {0:'train'})\n",
    "dfmetricasLR_test=pd.DataFrame(metricasLR_test).rename(columns = {0:'test'})\n",
    "dfmetricasLR_traintest=pd.concat([dfmetricasLR_train,dfmetricasLR_test], axis=1, ignore_index=True)\n",
    "dfmetricasLR_traintest = dfmetricasLR_traintest.rename(columns = {0:'train',1:'test'},index={0: 'MAE',1:'MSE',2:'RMSE',3:'R2'})\n",
    "dfmetricasLR_traintest"
   ]
  },
  {
   "cell_type": "markdown",
   "id": "8be3ba33",
   "metadata": {},
   "source": [
    "#### RIDGE"
   ]
  },
  {
   "cell_type": "code",
   "execution_count": 212,
   "id": "43327c14",
   "metadata": {},
   "outputs": [
    {
     "name": "stdout",
     "output_type": "stream",
     "text": [
      "Los parámetros de la regresión de Ridge son\n",
      " [ 0.49637037 -0.26017672 -0.28825947  0.34282774  0.1837949 ]\n",
      "Métricas calculadas sobre la muestra de entrenamiento\n",
      "MAE :  0.3696253003863817\n",
      "MSE :  0.26307307259046997\n",
      "RMSE :  0.5129064949778566\n",
      "R2 :  0.7396828406862666\n",
      "Métricas calculadas sobre la muestra de test\n",
      "MAE :  0.3666016354441074\n",
      "MSE :  0.2458542623283146\n",
      "RMSE :  0.49583693118636757\n",
      "R2 :  0.7479001176833742\n"
     ]
    }
   ],
   "source": [
    "ridge_regression = Ridge(alpha=1, solver = 'auto', random_state = 9) #Si selecionamos alpha = 0 se correspondería con una regresión lineal sin penalización\n",
    "ridge=ridge_regression.fit(X_train, Y_train)\n",
    "print(\"Los parámetros de la regresión de Ridge son\\n\", ridge.coef_) #Comprobamos el peso que se asigna a las distintas variables predictoras\n",
    "Y_train_pred_ridge = ridge_regression.predict(X_train)\n",
    "Y_test_pred_ridge = ridge_regression.predict(X_test)\n",
    "###############Cálculo de las métricas#######################\n",
    "print(\"Métricas calculadas sobre la muestra de entrenamiento\")\n",
    "metricasRidge_train=calculametricas(Y_train, Y_train_pred_ridge)\n",
    "print(\"Métricas calculadas sobre la muestra de test\")\n",
    "metricasRidge_test=calculametricas(Y_test, Y_test_pred_ridge)"
   ]
  },
  {
   "cell_type": "markdown",
   "id": "587752e0",
   "metadata": {},
   "source": [
    "#### LASSO"
   ]
  },
  {
   "cell_type": "code",
   "execution_count": 213,
   "id": "ccedc8e6",
   "metadata": {},
   "outputs": [
    {
     "name": "stdout",
     "output_type": "stream",
     "text": [
      "Los parámetros de la regresión de Lasso son\n",
      " [ 0.49252042 -0.25099331 -0.27055817  0.34987333  0.16116926]\n",
      "Métricas calculadas sobre la muestra de entrenamiento\n",
      "MAE :  0.36909960852171814\n",
      "MSE :  0.26353759040295965\n",
      "RMSE :  0.5133591242034757\n",
      "R2 :  0.7392231890913419\n",
      "Métricas calculadas sobre la muestra de test\n",
      "MAE :  0.36634546405359364\n",
      "MSE :  0.24652666799494202\n",
      "RMSE :  0.49651451942006897\n",
      "R2 :  0.7472106303919177\n"
     ]
    }
   ],
   "source": [
    "from sklearn.linear_model import Lasso\n",
    "lasso_regression = Lasso(alpha=0.01, random_state = 8) \n",
    "lasso=lasso_regression.fit(X_train, Y_train)\n",
    "print(\"Los parámetros de la regresión de Lasso son\\n\", lasso.coef_) #Comprobamos el peso que se asigna a las distintas variables predictoras\n",
    "Y_train_pred_lasso = lasso_regression.predict(X_train)\n",
    "Y_test_pred_lasso = lasso_regression.predict(X_test)\n",
    "###############Cálculo de las métricas#######################\n",
    "print(\"Métricas calculadas sobre la muestra de entrenamiento\")\n",
    "metricasLasso_train=calculametricas(Y_train, Y_train_pred_lasso)\n",
    "print(\"Métricas calculadas sobre la muestra de test\")\n",
    "metricasLasso_test=calculametricas(Y_test, Y_test_pred_lasso)"
   ]
  },
  {
   "cell_type": "code",
   "execution_count": 216,
   "id": "de8243d2",
   "metadata": {},
   "outputs": [
    {
     "data": {
      "text/html": [
       "<div>\n",
       "<style scoped>\n",
       "    .dataframe tbody tr th:only-of-type {\n",
       "        vertical-align: middle;\n",
       "    }\n",
       "\n",
       "    .dataframe tbody tr th {\n",
       "        vertical-align: top;\n",
       "    }\n",
       "\n",
       "    .dataframe thead th {\n",
       "        text-align: right;\n",
       "    }\n",
       "</style>\n",
       "<table border=\"1\" class=\"dataframe\">\n",
       "  <thead>\n",
       "    <tr style=\"text-align: right;\">\n",
       "      <th></th>\n",
       "      <th>Variable</th>\n",
       "      <th>Parámetro_lr</th>\n",
       "      <th>Parámetro_lasso</th>\n",
       "      <th>Parámetro_ridge</th>\n",
       "    </tr>\n",
       "  </thead>\n",
       "  <tbody>\n",
       "    <tr>\n",
       "      <th>0</th>\n",
       "      <td>0</td>\n",
       "      <td>0.496419</td>\n",
       "      <td>0.492520</td>\n",
       "      <td>0.496370</td>\n",
       "    </tr>\n",
       "    <tr>\n",
       "      <th>1</th>\n",
       "      <td>1</td>\n",
       "      <td>-0.260167</td>\n",
       "      <td>-0.250993</td>\n",
       "      <td>-0.260177</td>\n",
       "    </tr>\n",
       "    <tr>\n",
       "      <th>2</th>\n",
       "      <td>2</td>\n",
       "      <td>-0.288280</td>\n",
       "      <td>-0.270558</td>\n",
       "      <td>-0.288259</td>\n",
       "    </tr>\n",
       "    <tr>\n",
       "      <th>3</th>\n",
       "      <td>3</td>\n",
       "      <td>0.342846</td>\n",
       "      <td>0.349873</td>\n",
       "      <td>0.342828</td>\n",
       "    </tr>\n",
       "    <tr>\n",
       "      <th>4</th>\n",
       "      <td>4</td>\n",
       "      <td>0.183806</td>\n",
       "      <td>0.161169</td>\n",
       "      <td>0.183795</td>\n",
       "    </tr>\n",
       "  </tbody>\n",
       "</table>\n",
       "</div>"
      ],
      "text/plain": [
       "   Variable  Parámetro_lr  Parámetro_lasso  Parámetro_ridge\n",
       "0         0      0.496419         0.492520         0.496370\n",
       "1         1     -0.260167        -0.250993        -0.260177\n",
       "2         2     -0.288280        -0.270558        -0.288259\n",
       "3         3      0.342846         0.349873         0.342828\n",
       "4         4      0.183806         0.161169         0.183795"
      ]
     },
     "execution_count": 216,
     "metadata": {},
     "output_type": "execute_result"
    }
   ],
   "source": [
    "dflrcoef=pd.DataFrame(parametroslr)\n",
    "dfridgecoef=pd.DataFrame(ridge.coef_)\n",
    "dflassocoef=pd.DataFrame(lasso.coef_)\n",
    "dflrcoef=dflrcoef.rename(columns = {0:'Parámetro_lr'})\n",
    "dfridgecoef=dfridgecoef.rename(columns = {0:'Parámetro_ridge'})\n",
    "dflassocoef=dflassocoef.rename(columns = {0:'Parámetro_lasso'})\n",
    "dfcoeficientes=dflrcoef.join(dflassocoef).join(dfridgecoef)\n",
    "dfcoeficientes= dfcoeficientes.rename_axis('Variable').reset_index()\n",
    "dfcoeficientes"
   ]
  },
  {
   "cell_type": "code",
   "execution_count": 219,
   "id": "ec25a642",
   "metadata": {},
   "outputs": [
    {
     "data": {
      "text/html": [
       "<div>\n",
       "<style scoped>\n",
       "    .dataframe tbody tr th:only-of-type {\n",
       "        vertical-align: middle;\n",
       "    }\n",
       "\n",
       "    .dataframe tbody tr th {\n",
       "        vertical-align: top;\n",
       "    }\n",
       "\n",
       "    .dataframe thead th {\n",
       "        text-align: right;\n",
       "    }\n",
       "</style>\n",
       "<table border=\"1\" class=\"dataframe\">\n",
       "  <thead>\n",
       "    <tr style=\"text-align: right;\">\n",
       "      <th></th>\n",
       "      <th>LR</th>\n",
       "      <th>Ridge</th>\n",
       "      <th>Lasso</th>\n",
       "    </tr>\n",
       "  </thead>\n",
       "  <tbody>\n",
       "    <tr>\n",
       "      <th>MAE</th>\n",
       "      <td>0.366601</td>\n",
       "      <td>0.366602</td>\n",
       "      <td>0.366345</td>\n",
       "    </tr>\n",
       "    <tr>\n",
       "      <th>MSE</th>\n",
       "      <td>0.245852</td>\n",
       "      <td>0.245854</td>\n",
       "      <td>0.246527</td>\n",
       "    </tr>\n",
       "    <tr>\n",
       "      <th>RMSE</th>\n",
       "      <td>0.495835</td>\n",
       "      <td>0.495837</td>\n",
       "      <td>0.496515</td>\n",
       "    </tr>\n",
       "    <tr>\n",
       "      <th>R2</th>\n",
       "      <td>0.747902</td>\n",
       "      <td>0.747900</td>\n",
       "      <td>0.747211</td>\n",
       "    </tr>\n",
       "  </tbody>\n",
       "</table>\n",
       "</div>"
      ],
      "text/plain": [
       "            LR     Ridge     Lasso\n",
       "MAE   0.366601  0.366602  0.366345\n",
       "MSE   0.245852  0.245854  0.246527\n",
       "RMSE  0.495835  0.495837  0.496515\n",
       "R2    0.747902  0.747900  0.747211"
      ]
     },
     "execution_count": 219,
     "metadata": {},
     "output_type": "execute_result"
    }
   ],
   "source": [
    "dfmetricasLR_test=pd.DataFrame(metricasLR_test)\n",
    "dfmetricasRidge_test=pd.DataFrame(metricasRidge_test)\n",
    "dfmetricasLasso_test=pd.DataFrame(metricasLasso_test)\n",
    "dfmetricasLRRL_test=pd.concat([dfmetricasLR_test, dfmetricasRidge_test, dfmetricasLasso_test],axis=1,ignore_index=True)\n",
    "dfmetricasLRRL_test = dfmetricasLRRL_test.rename(columns = {0:'LR',1:'Ridge',2:'Lasso'},index={0: 'MAE',1:'MSE',2:'RMSE',3:'R2'})\n",
    "dfmetricasLRRL_test"
   ]
  },
  {
   "cell_type": "markdown",
   "id": "707a231e",
   "metadata": {},
   "source": [
    "### R5 Al ultilziar los modelos de Ridge, Lasso y LR utlizando solo las variables que obtuvimos de los metodos supervisados, hemos obtenido indicadores muy similares (casi iguales) que al utilizar todas las variables. \n",
    "### Para evitar complejidad en el codigo, yo optaria por utilizar todas las variables en este caso en especifico]"
   ]
  },
  {
   "cell_type": "code",
   "execution_count": null,
   "id": "94f34659",
   "metadata": {},
   "outputs": [],
   "source": []
  }
 ],
 "metadata": {
  "kernelspec": {
   "display_name": "Python 3 (ipykernel)",
   "language": "python",
   "name": "python3"
  },
  "language_info": {
   "codemirror_mode": {
    "name": "ipython",
    "version": 3
   },
   "file_extension": ".py",
   "mimetype": "text/x-python",
   "name": "python",
   "nbconvert_exporter": "python",
   "pygments_lexer": "ipython3",
   "version": "3.9.13"
  }
 },
 "nbformat": 4,
 "nbformat_minor": 5
}
